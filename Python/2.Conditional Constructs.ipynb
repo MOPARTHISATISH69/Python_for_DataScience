{
 "cells": [
  {
   "cell_type": "code",
   "execution_count": 1,
   "metadata": {},
   "outputs": [
    {
     "name": "stdout",
     "output_type": "stream",
     "text": [
      "15  is odd\n",
      "Finish\n"
     ]
    }
   ],
   "source": [
    "x = 15\n",
    "if x%2 == 0:\n",
    "    print(x, ' is even')\n",
    "else:\n",
    "    print(x, ' is odd')\n",
    "print('Finish')"
   ]
  },
  {
   "cell_type": "code",
   "execution_count": 2,
   "metadata": {},
   "outputs": [
    {
     "name": "stdout",
     "output_type": "stream",
     "text": [
      "5  is smaller than 10\n",
      "Finish\n"
     ]
    }
   ],
   "source": [
    "#Example of multiple if conditions \n",
    "x = 5\n",
    "if x<10:\n",
    "    print(x ,' is smaller than 10')\n",
    "if x>10:\n",
    "    print(x, ' is bigger than 10')\n",
    "print('Finish')"
   ]
  },
  {
   "cell_type": "code",
   "execution_count": 3,
   "metadata": {},
   "outputs": [
    {
     "name": "stdout",
     "output_type": "stream",
     "text": [
      "x is greater than y\n",
      "Finish\n"
     ]
    }
   ],
   "source": [
    "#Chained conditions\n",
    "x = 15\n",
    "y = 7\n",
    "if x>y:\n",
    "    print('x is greater than y')\n",
    "elif x<y:\n",
    "    print('x is less than y')\n",
    "else:\n",
    "    print(' x and y are equal')\n",
    "print('Finish')"
   ]
  },
  {
   "cell_type": "code",
   "execution_count": 4,
   "metadata": {},
   "outputs": [
    {
     "name": "stdout",
     "output_type": "stream",
     "text": [
      "x is a positive single digit\n",
      "Finish\n"
     ]
    }
   ],
   "source": [
    "#Nested if\n",
    "x = 5\n",
    "if x>0:\n",
    "    if x<10:\n",
    "        print('x is a positive single digit')\n",
    "else:\n",
    "    print('x is non-positive number')\n",
    "print('Finish')"
   ]
  },
  {
   "cell_type": "code",
   "execution_count": 5,
   "metadata": {},
   "outputs": [
    {
     "name": "stdout",
     "output_type": "stream",
     "text": [
      "X is a positive and a single digit number\n",
      "Finish\n"
     ]
    }
   ],
   "source": [
    "x = 4\n",
    "if x>0 and x<10:\n",
    "    print('X is a positive and a single digit number')\n",
    "else:\n",
    "    print('Negative number')\n",
    "print('Finish')"
   ]
  },
  {
   "cell_type": "code",
   "execution_count": 6,
   "metadata": {},
   "outputs": [
    {
     "name": "stdout",
     "output_type": "stream",
     "text": [
      "x is greater than 2 but less then y\n"
     ]
    }
   ],
   "source": [
    "x = 4\n",
    "y = 13\n",
    "if x>2 or x<y:\n",
    "    print('x is greater than 2 but less then y')\n",
    "else:\n",
    "    print('value of x is ', x)"
   ]
  },
  {
   "cell_type": "code",
   "execution_count": null,
   "metadata": {},
   "outputs": [],
   "source": []
  }
 ],
 "metadata": {
  "kernelspec": {
   "display_name": "Python 3",
   "language": "python",
   "name": "python3"
  },
  "language_info": {
   "codemirror_mode": {
    "name": "ipython",
    "version": 3
   },
   "file_extension": ".py",
   "mimetype": "text/x-python",
   "name": "python",
   "nbconvert_exporter": "python",
   "pygments_lexer": "ipython3",
   "version": "3.7.6"
  }
 },
 "nbformat": 4,
 "nbformat_minor": 4
}
