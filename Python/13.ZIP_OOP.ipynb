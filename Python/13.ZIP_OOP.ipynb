{
 "cells": [
  {
   "cell_type": "code",
   "execution_count": 1,
   "metadata": {},
   "outputs": [
    {
     "name": "stdout",
     "output_type": "stream",
     "text": [
      "Question =  Name And Answer =  Satish\n",
      "Question =  Course And Answer =  Python\n",
      "Question =  City And Answer =  Hyderabad\n"
     ]
    }
   ],
   "source": [
    "#Zip function \n",
    "\n",
    "Questions = ['Name','Course','City']\n",
    "Answers = ['Satish','Python','Hyderabad']\n",
    "\n",
    "for q,a in zip(Questions,Answers):\n",
    "    print('Question = ',q,'And Answer = ',a)"
   ]
  },
  {
   "cell_type": "code",
   "execution_count": 2,
   "metadata": {},
   "outputs": [
    {
     "name": "stdout",
     "output_type": "stream",
     "text": [
      "Enter questionSecondLanguage\n",
      "Enter AnswerR\n",
      "Exam pass\n"
     ]
    }
   ],
   "source": [
    "lsq = ['FirstLanguage','SecondLanguage','ThirdLanguage','FouthLanguage']\n",
    "lsa = ['python','R','Power BI','Tableau']\n",
    "\n",
    "ques = input(\"Enter question\")\n",
    "ans = input(\"Enter Answer\")\n",
    "\n",
    "if ques in lsq:\n",
    "    qpos = lsq.index(ques)\n",
    "if ans == lsa[qpos]:\n",
    "    print(\"Exam pass\")\n",
    "else:\n",
    "    print(\"Exam failed\")"
   ]
  },
  {
   "cell_type": "code",
   "execution_count": 3,
   "metadata": {},
   "outputs": [
    {
     "name": "stdout",
     "output_type": "stream",
     "text": [
      "{'bags': 1, 'books': 5, 'bottle': 4, 'coins': 7, 'cups': 2, 'pens': 3}\n"
     ]
    }
   ],
   "source": [
    "items = {'coins':7,'pens':3,'cups':2,'bags':1,'bottle':4,'books':5}\n",
    "import pprint  #Pprint used to sort dictionary \n",
    "pprint.pprint(items)"
   ]
  },
  {
   "cell_type": "code",
   "execution_count": 4,
   "metadata": {},
   "outputs": [],
   "source": [
    "# Class is collection of common attributes and fucntions\n",
    "\n",
    "# Presentation Layer -- > View\n",
    "# Business Logic --> Controller\n",
    "# Database Logic --> Model\n",
    "\n",
    "# Class is in Logical structure how an object looks\n",
    "# Class is the collection of data members ( properties/ common atrributes ) and methods (Functions)\n",
    "# Class and methods won't occupy memory \n",
    "# Method are used to operate on data ( variable )\n",
    "# Once onject is created memory allocates for variables , not for class"
   ]
  },
  {
   "cell_type": "code",
   "execution_count": 5,
   "metadata": {},
   "outputs": [],
   "source": [
    "# Encapsulation --> Binding data and methos together, such others cann't access methods ( Security)\n",
    "# Polymorphism --> Multiple definitions but having single method name \n",
    "    #Same function with different parameters\n",
    "    #Easy to process\n",
    "    #Same method name having different functionality\n",
    "    #method name is only one , with differnet parameter list ,  coreesponding method calls\n",
    "#Abstraction -->Hiding unwanted data -::- Hiding implementation\n",
    "    #Hiding how it implemented\n",
    "    #complexity decreases\n",
    "#Inheritance --> Re-using the implementation ( code ) is called inheritance\n",
    "    #Re-using the existing functionality\n",
    "    #Extend or modify the functionality \n",
    "    \n",
    "# Hiding the data means -::- Encapsulation\n",
    "# Hiding how method implemented -::- Abstraction --> Reduce complexity "
   ]
  },
  {
   "cell_type": "code",
   "execution_count": 16,
   "metadata": {},
   "outputs": [
    {
     "name": "stdout",
     "output_type": "stream",
     "text": [
      "Name :  Zara , Salary:  2000\n",
      "Name :  Manni , Salary:  5000\n",
      "Total Employee  2\n"
     ]
    }
   ],
   "source": [
    "class Employee:\n",
    "    'Common base class for all employees'\n",
    "    empCount = 0\n",
    "    def __init__(self, name, salary):\n",
    "        self.name = name\n",
    "        self.salary = salary\n",
    "        Employee.empCount += 1\n",
    "    def displayCount(self):\n",
    "        print(\"Total Employee\" ,Employee.empCount)\n",
    "    def displayEmployee(self):\n",
    "        print(\"Name : \", self.name,  \", Salary: \", self.salary)\n",
    "\n",
    "\"This would create first object of Employee class\"\n",
    "emp1 = Employee(\"Zara\", 2000)\n",
    "\"This would create second object of Employee class\"\n",
    "emp2 = Employee(\"Manni\", 5000)\n",
    "emp1.displayEmployee()\n",
    "emp2.displayEmployee()\n",
    "print(\"Total Employee \" ,Employee.empCount)"
   ]
  },
  {
   "cell_type": "code",
   "execution_count": 20,
   "metadata": {},
   "outputs": [
    {
     "name": "stdout",
     "output_type": "stream",
     "text": [
      "Employee.__doc__: Common base class for all employees\n",
      "Employee.__name__: Employee\n",
      "Employee.__module__: __main__\n",
      "Employee.__bases__: (<class 'object'>,)\n",
      "Employee.__dict__: {'__module__': '__main__', '__doc__': 'Common base class for all employees', 'empCount': 0, '__init__': <function Employee.__init__ at 0x00000233FAD3E048>, 'displayCount': <function Employee.displayCount at 0x00000233FAD3EEE8>, 'displayEmployee': <function Employee.displayEmployee at 0x00000233FAD3EC18>, '__dict__': <attribute '__dict__' of 'Employee' objects>, '__weakref__': <attribute '__weakref__' of 'Employee' objects>}\n"
     ]
    }
   ],
   "source": [
    "class Employee:\n",
    "    'Common base class for all employees'\n",
    "    empCount = 0\n",
    "    def __init__(self, name, salary):\n",
    "        self.name = name\n",
    "        self.salary = salary\n",
    "        Employee.empCount += 1\n",
    "    def displayCount(self):\n",
    "        print(\"Total Employee\", Employee.empCount)\n",
    "    def displayEmployee(self):\n",
    "        print(\"Name : \", self.name,  \", Salary: \", self.salary)\n",
    "\n",
    "print(\"Employee.__doc__:\", Employee.__doc__)\n",
    "print(\"Employee.__name__:\", Employee.__name__)\n",
    "print(\"Employee.__module__:\", Employee.__module__)\n",
    "print(\"Employee.__bases__:\", Employee.__bases__)\n",
    "print(\"Employee.__dict__:\", Employee.__dict__)"
   ]
  },
  {
   "cell_type": "code",
   "execution_count": 21,
   "metadata": {},
   "outputs": [],
   "source": [
    "# Parent class is the class being inherited from, also called base class.\n",
    "# Child class is the class that inherits from another class, also called derived class.\n",
    "# Inheritance"
   ]
  },
  {
   "cell_type": "code",
   "execution_count": 23,
   "metadata": {},
   "outputs": [
    {
     "name": "stdout",
     "output_type": "stream",
     "text": [
      "John Doe\n"
     ]
    }
   ],
   "source": [
    "# Parent Class\n",
    "class human:\n",
    "    def __init__(self, fname, lname):\n",
    "        self.firstname = fname\n",
    "        self.lastname = lname\n",
    "    def printname(self):\n",
    "        print(self.firstname, self.lastname)\n",
    "#Use the Person class to create an object, and then execute the printname method:\n",
    "x = human(\"John\", \"Doe\")\n",
    "x.printname()\n"
   ]
  },
  {
   "cell_type": "code",
   "execution_count": 24,
   "metadata": {},
   "outputs": [],
   "source": [
    "# Child class\n",
    "class Student(human):\n",
    "    pass"
   ]
  },
  {
   "cell_type": "code",
   "execution_count": 25,
   "metadata": {},
   "outputs": [],
   "source": [
    "# Note: Use the pass keyword when you do not want to add any other properties or methods to the class."
   ]
  },
  {
   "cell_type": "code",
   "execution_count": 27,
   "metadata": {},
   "outputs": [
    {
     "name": "stdout",
     "output_type": "stream",
     "text": [
      "Mike Olsen\n"
     ]
    }
   ],
   "source": [
    "class human:\n",
    "    def __init__(self, fname, lname):\n",
    "        self.firstname = fname\n",
    "        self.lastname = lname\n",
    "    def printname(self):\n",
    "        print(self.firstname, self.lastname)\n",
    "class being(human):\n",
    "    pass\n",
    "\n",
    "x = being(\"Mike\", \"Olsen\") # Creating object for child class\n",
    "x.printname()"
   ]
  },
  {
   "cell_type": "code",
   "execution_count": 29,
   "metadata": {},
   "outputs": [
    {
     "name": "stdout",
     "output_type": "stream",
     "text": [
      "Welcome Mike Olsen to the class of 2019\n"
     ]
    }
   ],
   "source": [
    "class human:\n",
    "    def __init__(self, fname, lname):\n",
    "        self.firstname = fname\n",
    "        self.lastname = lname\n",
    "    def printname(self):\n",
    "        print(self.firstname, self.lastname)\n",
    "\n",
    "class being(human):\n",
    "    def __init__(self, fname, lname, year):\n",
    "        super().__init__(fname, lname)\n",
    "        self.graduationyear = year\n",
    "    def welcome(self):\n",
    "        print(\"Welcome\", self.firstname, self.lastname, \"to the class of\", self.graduationyear)\n",
    "\n",
    "x = Student(\"Mike\", \"Olsen\", 2019)\n",
    "x.welcome()"
   ]
  },
  {
   "cell_type": "code",
   "execution_count": 30,
   "metadata": {},
   "outputs": [],
   "source": [
    "# By using the super() function, you do not have to use the name of the parent element, it will automatically inherit the methods and properties from its parent."
   ]
  },
  {
   "cell_type": "code",
   "execution_count": 32,
   "metadata": {},
   "outputs": [
    {
     "name": "stdout",
     "output_type": "stream",
     "text": [
      "I am in child\n",
      " I will bite\n"
     ]
    }
   ],
   "source": [
    "class animal:\n",
    "    def __init__(self):\n",
    "        print(\"I am in parent\")\n",
    "    def f1(self):\n",
    "        print(\" I am animal\")\n",
    "    def eat(self):\n",
    "        print(\" I am in eat\")\n",
    "class dog(animal):\n",
    "    def __init__(self):\n",
    "        print('I am in child')\n",
    "    def f1(self):\n",
    "        print(\"I am in child f1\")\n",
    "    def bite(self):\n",
    "        print(\" I will bite\")\n",
    "x = dog()\n",
    "x.bite()"
   ]
  },
  {
   "cell_type": "code",
   "execution_count": 33,
   "metadata": {},
   "outputs": [],
   "source": [
    "# A class having more than one parent is called multiple level"
   ]
  },
  {
   "cell_type": "code",
   "execution_count": 34,
   "metadata": {},
   "outputs": [
    {
     "name": "stdout",
     "output_type": "stream",
     "text": [
      "I am in m4 of c4\n",
      "I am in m2 of c2\n"
     ]
    }
   ],
   "source": [
    "class c1:\n",
    "    def m1(self):\n",
    "        print(\"I am in m1 of c1\")\n",
    "class c2(c1):\n",
    "    def m2(self):\n",
    "        print(\"I am in m2 of c2\")\n",
    "class c3(c1):\n",
    "    def m3(self):\n",
    "        print(\"I am in m3 of c3\")\n",
    "class c4(c2,c3):\n",
    "    def m4(self):\n",
    "        print(\"I am in m4 of c4\")\n",
    "\n",
    "obj  = c4()\n",
    "obj.m4()\n",
    "obj.m2()   #first m2 method is called\n",
    "        "
   ]
  },
  {
   "cell_type": "markdown",
   "metadata": {},
   "source": [
    "## Over loading and Over Riding"
   ]
  },
  {
   "cell_type": "code",
   "execution_count": 35,
   "metadata": {},
   "outputs": [],
   "source": [
    "# Same method name -::- multiple definitons inherited from parent --> Over riding\n",
    "# same method name -::- multiple difinitions within same class --> Ploymorphism\n",
    "# same method name -::- different arguments --> Over loading"
   ]
  },
  {
   "cell_type": "code",
   "execution_count": 36,
   "metadata": {},
   "outputs": [],
   "source": [
    "class par:\n",
    "    def m1(self,i):\n",
    "        self.eid = i\n",
    "        print(\"I am in parent\")\n",
    "class child:\n",
    "    def m2(self,i):\n",
    "        self.eid = i\n",
    "        print(\"I am in child\")"
   ]
  },
  {
   "cell_type": "code",
   "execution_count": 42,
   "metadata": {},
   "outputs": [
    {
     "name": "stdout",
     "output_type": "stream",
     "text": [
      "50 60\n",
      "90 100\n"
     ]
    }
   ],
   "source": [
    "class overcl:\n",
    "    def __init__(self,a,b):\n",
    "        self.a = a\n",
    "        self.b = b\n",
    "    def printname(self):\n",
    "        print(self.a, self.b)\n",
    "class over(overcl):\n",
    "    pass\n",
    "\n",
    "x = over(50,60)\n",
    "x.printname()\n",
    "y = over(90,100) # Over loading\n",
    "y.printname()"
   ]
  },
  {
   "cell_type": "code",
   "execution_count": 43,
   "metadata": {},
   "outputs": [],
   "source": [
    "# To add the objects (x+y) we should call __add__ ,method\n",
    "def __add__(self,other):\n",
    "    return overcl(self.a + other.a,self.b+other.b)"
   ]
  },
  {
   "cell_type": "code",
   "execution_count": 44,
   "metadata": {},
   "outputs": [
    {
     "name": "stdout",
     "output_type": "stream",
     "text": [
      "0 a\n",
      "1 b\n",
      "2 c\n",
      "3 d\n"
     ]
    }
   ],
   "source": [
    "# Enumerate() method adds a counter to an iterable and returns it in a form of enumerate object. \n",
    "# This enumerate object can then be used directly in for loops or be converted into a list of tuples using list() method\n",
    "\n",
    "for i,v in enumerate(['a','b','c','d']):\n",
    "    print(i,v)"
   ]
  },
  {
   "cell_type": "code",
   "execution_count": 49,
   "metadata": {},
   "outputs": [
    {
     "name": "stdout",
     "output_type": "stream",
     "text": [
      "0\n",
      "1\n",
      "4\n",
      "9\n",
      "16\n",
      "<generator object f1 at 0x00000233FAD66448>\n"
     ]
    }
   ],
   "source": [
    "def f1():\n",
    "    for i in range(5):\n",
    "        yield(i*i)\n",
    "for i in f1():\n",
    "    print(i)\n",
    "print(f1()) # Object generator"
   ]
  },
  {
   "cell_type": "code",
   "execution_count": 56,
   "metadata": {},
   "outputs": [
    {
     "name": "stdout",
     "output_type": "stream",
     "text": [
      "Question  Name Answer  Satish\n",
      "Question  course Answer  Python\n",
      "Question  City Answer  Bangalore\n"
     ]
    }
   ],
   "source": [
    "#Zip funciton is to compare two values like question and answers\n",
    "\n",
    "Q = ['Name','course','City']\n",
    "A = ['Satish','Python','Bangalore']\n",
    "\n",
    "for q,a in zip(Q,A):\n",
    "    print(\"Question \", q ,'Answer ',a)"
   ]
  },
  {
   "cell_type": "code",
   "execution_count": 59,
   "metadata": {},
   "outputs": [
    {
     "name": "stdout",
     "output_type": "stream",
     "text": [
      "Enter a digit4\n"
     ]
    },
    {
     "data": {
      "text/plain": [
       "64"
      ]
     },
     "execution_count": 59,
     "metadata": {},
     "output_type": "execute_result"
    }
   ],
   "source": [
    "# Find the cubes values using normal functions and lambda\n",
    "\n",
    "def cube(x):\n",
    "    return x*x*x    #same as x**3\n",
    "x = int(input(\"Enter a digit\"))\n",
    "\n",
    "cube(x)"
   ]
  },
  {
   "cell_type": "code",
   "execution_count": 62,
   "metadata": {},
   "outputs": [
    {
     "name": "stdout",
     "output_type": "stream",
     "text": [
      "Cube using lambda 27\n"
     ]
    }
   ],
   "source": [
    "power = lambda x:x**3\n",
    "print(\"Cube using lambda\",power(3))"
   ]
  },
  {
   "cell_type": "code",
   "execution_count": 65,
   "metadata": {},
   "outputs": [
    {
     "name": "stdout",
     "output_type": "stream",
     "text": [
      "Result is  549\n"
     ]
    }
   ],
   "source": [
    "Expression = lambda a,b:(a**3)+2*(a**2)*b+2*(b**2)*a+b**3\n",
    "print(\"Result is \",Expression(4,5))"
   ]
  }
 ],
 "metadata": {
  "kernelspec": {
   "display_name": "Python 3",
   "language": "python",
   "name": "python3"
  },
  "language_info": {
   "codemirror_mode": {
    "name": "ipython",
    "version": 3
   },
   "file_extension": ".py",
   "mimetype": "text/x-python",
   "name": "python",
   "nbconvert_exporter": "python",
   "pygments_lexer": "ipython3",
   "version": "3.7.6"
  }
 },
 "nbformat": 4,
 "nbformat_minor": 2
}
