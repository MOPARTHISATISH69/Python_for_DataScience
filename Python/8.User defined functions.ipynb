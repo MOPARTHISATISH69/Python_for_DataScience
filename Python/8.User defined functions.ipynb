{
 "cells": [
  {
   "cell_type": "code",
   "execution_count": 1,
   "metadata": {},
   "outputs": [
    {
     "data": {
      "text/plain": [
       "0"
      ]
     },
     "execution_count": 1,
     "metadata": {},
     "output_type": "execute_result"
    }
   ],
   "source": [
    "def rep_neg(x):\n",
    "    if x>0:\n",
    "        out = x\n",
    "    else:\n",
    "        out = 0\n",
    "    return out\n",
    "rep_neg(-10)"
   ]
  },
  {
   "cell_type": "code",
   "execution_count": 2,
   "metadata": {},
   "outputs": [
    {
     "name": "stdout",
     "output_type": "stream",
     "text": [
      "[0, 2, 4, 5, 0, 0, 5, 7, 0, 5, 4]\n"
     ]
    }
   ],
   "source": [
    "MyList = [-1,2,4,5,-8,-9,5,7,-0,5,4]\n",
    "for i in range(0,len(MyList)):\n",
    "    MyList[i] = rep_neg(MyList[i])\n",
    "print(MyList)"
   ]
  },
  {
   "cell_type": "code",
   "execution_count": 3,
   "metadata": {},
   "outputs": [
    {
     "data": {
      "text/plain": [
       "120"
      ]
     },
     "execution_count": 3,
     "metadata": {},
     "output_type": "execute_result"
    }
   ],
   "source": [
    "# Factorial if a number using default argument\n",
    "\n",
    "def fac(num =1):\n",
    "    count = 1\n",
    "    fact = 1\n",
    "    while count <= num:\n",
    "        fact = count*fact\n",
    "        count += 1\n",
    "    return(fact)\n",
    "fac(5)"
   ]
  },
  {
   "cell_type": "code",
   "execution_count": 4,
   "metadata": {},
   "outputs": [
    {
     "data": {
      "text/plain": [
       "1"
      ]
     },
     "execution_count": 4,
     "metadata": {},
     "output_type": "execute_result"
    }
   ],
   "source": [
    "fac() # retunrs 1 becasue default value is 1"
   ]
  },
  {
   "cell_type": "code",
   "execution_count": null,
   "metadata": {},
   "outputs": [],
   "source": []
  }
 ],
 "metadata": {
  "kernelspec": {
   "display_name": "Python 3",
   "language": "python",
   "name": "python3"
  },
  "language_info": {
   "codemirror_mode": {
    "name": "ipython",
    "version": 3
   },
   "file_extension": ".py",
   "mimetype": "text/x-python",
   "name": "python",
   "nbconvert_exporter": "python",
   "pygments_lexer": "ipython3",
   "version": "3.7.6"
  }
 },
 "nbformat": 4,
 "nbformat_minor": 4
}
