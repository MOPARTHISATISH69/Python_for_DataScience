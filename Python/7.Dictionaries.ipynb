{
 "cells": [
  {
   "cell_type": "code",
   "execution_count": 1,
   "metadata": {},
   "outputs": [],
   "source": [
    "# Dictionaries is a container of key-value pairs\n",
    "# Dictionary \n",
    "    # Is mutable ( changeable)\n",
    "    # Can contain mixed data types\n",
    "    # Is not ordered unlike lists\n",
    "    # Whole set of elemtns are enclosed in {}\n",
    "    # Values can be accessed using KEYS , vice versa is not possible\n",
    "    # Keys have to be unique : Duplication of key is not allowed\n",
    "    # Keys are case sensitive\n",
    "    # The function 'dict' creates a new dictionary with no items -::- Example :: obj = dict()"
   ]
  },
  {
   "cell_type": "code",
   "execution_count": 2,
   "metadata": {},
   "outputs": [
    {
     "name": "stdout",
     "output_type": "stream",
     "text": [
      "{'sun': 'sunday', 'mon': 'monday', 'tue': 'tuesday', 'wed': 'wednesday'}\n",
      "{'one': 1, 'two': 2}\n",
      "{'svk': 'Bratislava', 'deu': 'Berlin', 'dnk': 'Copenhagen'}\n"
     ]
    }
   ],
   "source": [
    "#Create and access dictionary \n",
    "\n",
    "weekday = {'sun':'sunday','mon':'monday','tue':'tuesday','wed':'wednesday'}\n",
    "vals = dict(one=1,two=2)\n",
    "capitals = {}\n",
    "capitals[\"svk\"] = \"Bratislava\"\n",
    "capitals['deu'] = \"Berlin\"\n",
    "capitals[\"dnk\"] = \"Copenhagen\"\n",
    "\n",
    "print(weekday)\n",
    "print(vals)\n",
    "print(capitals)"
   ]
  },
  {
   "cell_type": "code",
   "execution_count": 3,
   "metadata": {},
   "outputs": [
    {
     "name": "stdout",
     "output_type": "stream",
     "text": [
      "{'sun': 'Sunday', 'mon': 'monday', 'tue': 'tuesday'}\n"
     ]
    }
   ],
   "source": [
    "weekdays = {'sun':'sunday','mon':'monday','tue':'tuesday','sun':'Sunday'} # latest value is taken for \"sun\"\n",
    "print(weekdays)"
   ]
  },
  {
   "cell_type": "code",
   "execution_count": 4,
   "metadata": {},
   "outputs": [
    {
     "name": "stdout",
     "output_type": "stream",
     "text": [
      "{'Oranges': 12, 'pears': 5, 'apples': 4, 'bananas': 5}\n"
     ]
    }
   ],
   "source": [
    "Basket = {'Oranges':12,'pears':5,'apples':4}\n",
    "Basket['bananas']=5\n",
    "print(Basket)"
   ]
  },
  {
   "cell_type": "code",
   "execution_count": 5,
   "metadata": {},
   "outputs": [
    {
     "name": "stdout",
     "output_type": "stream",
     "text": [
      "There are  4  various items in the Basket\n",
      "4\n"
     ]
    }
   ],
   "source": [
    "print(\"There are \",len(Basket),\" various items in the Basket\")\n",
    "print(Basket['apples'])"
   ]
  },
  {
   "cell_type": "code",
   "execution_count": 6,
   "metadata": {},
   "outputs": [
    {
     "name": "stdout",
     "output_type": "stream",
     "text": [
      "8\n"
     ]
    }
   ],
   "source": [
    "Basket['apples'] = 8\n",
    "print(Basket['apples'])"
   ]
  },
  {
   "cell_type": "code",
   "execution_count": 7,
   "metadata": {},
   "outputs": [
    {
     "name": "stdout",
     "output_type": "stream",
     "text": [
      "12\n",
      "None\n"
     ]
    }
   ],
   "source": [
    "print(Basket.get('Oranges'))\n",
    "print(Basket.get('Cherris')) # returned undefined as Cherris is not defined"
   ]
  },
  {
   "cell_type": "code",
   "execution_count": 8,
   "metadata": {},
   "outputs": [
    {
     "name": "stdout",
     "output_type": "stream",
     "text": [
      "{'oranges': 0, 'pears': 0, 'apples': 0, 'bananas': 0}\n"
     ]
    }
   ],
   "source": [
    "# Create a dict from a list\n",
    "\n",
    "basket = ('oranges','pears','apples','bananas','apples')\n",
    "fruits = {}.fromkeys(basket,0)\n",
    "print(fruits)"
   ]
  },
  {
   "cell_type": "code",
   "execution_count": 9,
   "metadata": {},
   "outputs": [
    {
     "name": "stdout",
     "output_type": "stream",
     "text": [
      "12\n",
      "15\n"
     ]
    }
   ],
   "source": [
    "fruits['oranges'] = 12\n",
    "fruits['pears'] = 8\n",
    "fruits['apples'] = 4\n",
    "\n",
    "print(fruits.setdefault('oranges',11))\n",
    "\n",
    "# Creates a new key with value if it does not exist \n",
    "\n",
    "print(fruits.setdefault('kiwis',15))"
   ]
  },
  {
   "cell_type": "code",
   "execution_count": 10,
   "metadata": {},
   "outputs": [
    {
     "name": "stdout",
     "output_type": "stream",
     "text": [
      "{'oranges': 12, 'pears': 8, 'apples': 4, 'bananas': 0, 'kiwis': 15}\n"
     ]
    }
   ],
   "source": [
    "print(fruits)"
   ]
  },
  {
   "cell_type": "code",
   "execution_count": 11,
   "metadata": {},
   "outputs": [
    {
     "name": "stdout",
     "output_type": "stream",
     "text": [
      "{'de': 'Germany', 'sk': 'slovakia', 'hu': 'Hungary', 'us': 'United states', 'no': 'Norway'}\n"
     ]
    }
   ],
   "source": [
    "domains = {'de':'Germany','sk':'slovakia','hu':'Hungary'}\n",
    "domain = {'us':'United states','no':'Norway'}\n",
    "\n",
    "domains.update(domain)\n",
    "#to add two dictionaries\n",
    "\n",
    "print(domains)"
   ]
  },
  {
   "cell_type": "code",
   "execution_count": 12,
   "metadata": {},
   "outputs": [
    {
     "name": "stdout",
     "output_type": "stream",
     "text": [
      "{'coins': 7, 'pens': 3, 'cups': 2, 'bags': 1, 'bottle': 4, 'books': 5}\n",
      "{'pens': 3, 'cups': 2, 'bags': 1, 'bottle': 4, 'books': 5}\n",
      "{'pens': 3, 'cups': 2, 'bags': 1, 'books': 5}\n",
      "{}\n"
     ]
    }
   ],
   "source": [
    "items = {'coins':7,'pens':3,'cups':2,'bags':1,'bottle':4,'books':5}\n",
    "print(items)\n",
    "items.pop(\"coins\")\n",
    "print(items)\n",
    "\n",
    "del items[\"bottle\"]\n",
    "print(items)\n",
    "\n",
    "items.clear()\n",
    "print(items)"
   ]
  },
  {
   "cell_type": "code",
   "execution_count": 13,
   "metadata": {},
   "outputs": [
    {
     "name": "stdout",
     "output_type": "stream",
     "text": [
      "dict_keys(['de', 'sk', 'hu', 'us', 'no'])\n",
      "dict_values(['Germany', 'slovakia', 'Hungary', 'United states', 'Norway'])\n",
      "dict_items([('de', 'Germany'), ('sk', 'slovakia'), ('hu', 'Hungary'), ('us', 'United states'), ('no', 'Norway')])\n",
      "True\n",
      "False\n"
     ]
    }
   ],
   "source": [
    "print(domains.keys()) # Keys \n",
    "print(domains.values()) # values\n",
    "print(domains.items()) # key-value pair\n",
    "print(\"de\" in domains) # Membership\n",
    "print(\"cz\" in domains) # membership "
   ]
  },
  {
   "cell_type": "code",
   "execution_count": 14,
   "metadata": {},
   "outputs": [
    {
     "name": "stdout",
     "output_type": "stream",
     "text": [
      "Key of domains dicy are  de\n",
      "Key of domains dicy are  sk\n",
      "Key of domains dicy are  hu\n",
      "Key of domains dicy are  us\n",
      "Key of domains dicy are  no\n",
      "Values  of domains dicy are  Germany\n",
      "Values  of domains dicy are  slovakia\n",
      "Values  of domains dicy are  Hungary\n",
      "Values  of domains dicy are  United states\n",
      "Values  of domains dicy are  Norway\n",
      "de : Germany\n",
      "sk : slovakia\n",
      "hu : Hungary\n",
      "us : United states\n",
      "no : Norway\n",
      "Finish\n"
     ]
    }
   ],
   "source": [
    "for key in domains:\n",
    "    print(\"Key of domains dicy are \", key)\n",
    "for k in domains:\n",
    "    print(\"Values  of domains dicy are \", domains[k])\n",
    "for k,v in domains.items():\n",
    "    print(\" : \". join((k,v)))\n",
    "print(\"Finish\")"
   ]
  },
  {
   "cell_type": "code",
   "execution_count": 15,
   "metadata": {},
   "outputs": [
    {
     "name": "stdout",
     "output_type": "stream",
     "text": [
      "dict_keys(['coins', 'pens', 'cups', 'bags', 'bottle', 'books'])\n",
      "coins:7\n",
      "pens:3\n",
      "cups:2\n",
      "bags:1\n",
      "bottle:4\n",
      "books:5\n"
     ]
    }
   ],
   "source": [
    "# Sorting on keys\n",
    "items = {'coins':7,'pens':3,'cups':2,'bags':1,'bottle':4,'books':5}\n",
    "sitems = items.keys()\n",
    "#sitems.sort() won't work to sort the Dictionary values we have to use pprint library\n",
    "print(sitems)\n",
    "\n",
    "for k in sitems:\n",
    "    print(\":\".join((k, str(items[k]))))"
   ]
  },
  {
   "cell_type": "code",
   "execution_count": 16,
   "metadata": {},
   "outputs": [
    {
     "name": "stdout",
     "output_type": "stream",
     "text": [
      "{'bags': 1, 'books': 5, 'bottle': 4, 'coins': 7, 'cups': 2, 'pens': 3}\n"
     ]
    }
   ],
   "source": [
    "import pprint\n",
    "pprint.pprint(items)\n",
    "\n",
    "# Dictionaries are dynamic\n",
    "# Sort method allows sorting of dict\n",
    "# Keys are unique and therefore cannot be duplicated"
   ]
  },
  {
   "cell_type": "code",
   "execution_count": 17,
   "metadata": {},
   "outputs": [
    {
     "name": "stdout",
     "output_type": "stream",
     "text": [
      "[0, 1, 2, 3, 4, 5, 6, 7, 8, 9] (0, 1, 2, 3, 4, 5, 6, 7, 8, 9)\n"
     ]
    }
   ],
   "source": [
    "# We can use range function to create a list and tuple\n",
    "L = list(range(10))\n",
    "T = tuple(range(10))\n",
    "print(L,T)"
   ]
  },
  {
   "cell_type": "code",
   "execution_count": 18,
   "metadata": {},
   "outputs": [
    {
     "data": {
      "text/plain": [
       "['IND', 'AME', 'DEN', 'UNI', 'GER', 'JAP']"
      ]
     },
     "execution_count": 18,
     "metadata": {},
     "output_type": "execute_result"
    }
   ],
   "source": [
    "## List iterations and list comprehension \n",
    "\n",
    "Country_list = ['India','America','Denmark','United Kingdom','Germany','Japan']\n",
    "first3letters = []\n",
    "for word in Country_list:\n",
    "    first3letters.append(word[:3].upper())\n",
    "first3letters    "
   ]
  },
  {
   "cell_type": "code",
   "execution_count": 19,
   "metadata": {},
   "outputs": [
    {
     "name": "stdout",
     "output_type": "stream",
     "text": [
      "['IND', 'AME', 'DEN', 'UNI', 'GER', 'JAP']\n"
     ]
    }
   ],
   "source": [
    "# Element for element in list filter condition\n",
    "Country_list = ['India','America','Denmark','United Kingdom','Germany','Japan']\n",
    "first3letters = [word[:3].upper() for word in Country_list]\n",
    "print(first3letters)"
   ]
  },
  {
   "cell_type": "code",
   "execution_count": 20,
   "metadata": {},
   "outputs": [
    {
     "name": "stdout",
     "output_type": "stream",
     "text": [
      "[24, 28, 32, 36, 40]\n"
     ]
    }
   ],
   "source": [
    "list1 = [11,12,13,14,15,16,17,18,19,20]\n",
    "Even_number = []\n",
    "for num in list1:\n",
    "    if num%2 ==0:\n",
    "        Even_number.append(num*2)\n",
    "print(Even_number)"
   ]
  },
  {
   "cell_type": "code",
   "execution_count": 21,
   "metadata": {},
   "outputs": [
    {
     "name": "stdout",
     "output_type": "stream",
     "text": [
      "[24, 28, 32, 36, 40]\n"
     ]
    }
   ],
   "source": [
    "Even_Number = [num*2 for num in list1 if num%2 ==0]\n",
    "print(Even_Number)"
   ]
  },
  {
   "cell_type": "code",
   "execution_count": 22,
   "metadata": {},
   "outputs": [
    {
     "name": "stdout",
     "output_type": "stream",
     "text": [
      "[33, 24, 39, 28, 45, 32, 51, 36, 57, 40]\n"
     ]
    }
   ],
   "source": [
    "list1 = [11,12,13,14,15,16,17,18,19,20]\n",
    "Even_number = []\n",
    "for num in list1:\n",
    "    if num%2 ==0:\n",
    "        Even_number.append(num*2)\n",
    "    else:\n",
    "        Even_number.append(num*3)\n",
    "print(Even_number)"
   ]
  },
  {
   "cell_type": "code",
   "execution_count": 23,
   "metadata": {},
   "outputs": [
    {
     "name": "stdout",
     "output_type": "stream",
     "text": [
      "[33, 24, 39, 28, 45, 32, 51, 36, 57, 40]\n"
     ]
    }
   ],
   "source": [
    "Even_Number = [num*2 if num%2 ==0 else num*3 for num in list1]\n",
    "print(Even_Number)"
   ]
  },
  {
   "cell_type": "code",
   "execution_count": 24,
   "metadata": {},
   "outputs": [
    {
     "name": "stdout",
     "output_type": "stream",
     "text": [
      "[(11, 21), (12, 22), (13, 23)]\n"
     ]
    }
   ],
   "source": [
    "x=[11,12,13];y=[21,22,23]\n",
    "print(list(zip(x,y)))"
   ]
  },
  {
   "cell_type": "code",
   "execution_count": 25,
   "metadata": {},
   "outputs": [
    {
     "name": "stdout",
     "output_type": "stream",
     "text": [
      "[(11, 21), (11, 22), (11, 23), (12, 21), (12, 22), (12, 23), (13, 21), (13, 22), (13, 23)]\n"
     ]
    }
   ],
   "source": [
    "import itertools as itr\n",
    "x=[11,12,13];y=[21,22,23]\n",
    "Itr_product = list(itr.product(x,y))\n",
    "print(Itr_product)"
   ]
  },
  {
   "cell_type": "code",
   "execution_count": 26,
   "metadata": {},
   "outputs": [
    {
     "name": "stdout",
     "output_type": "stream",
     "text": [
      "kar 20\n",
      "AP 30\n",
      "TN 34\n",
      "Ker 45\n",
      "Finish\n"
     ]
    }
   ],
   "source": [
    "States = {'kar':20,'AP':30,'TN':34,'Ker':45}\n",
    "for key in States:\n",
    "    print(key,States[key])\n",
    "print('Finish')"
   ]
  },
  {
   "cell_type": "code",
   "execution_count": 27,
   "metadata": {},
   "outputs": [
    {
     "name": "stdout",
     "output_type": "stream",
     "text": [
      "20\n",
      "Key not found\n"
     ]
    }
   ],
   "source": [
    "print(States.get('kar'))\n",
    "print(States.get('Del','Key not found'))"
   ]
  },
  {
   "cell_type": "code",
   "execution_count": 28,
   "metadata": {},
   "outputs": [
    {
     "name": "stdout",
     "output_type": "stream",
     "text": [
      "{'AP': 30, 'TN': 34, 'Ker': 45}\n"
     ]
    }
   ],
   "source": [
    "del States['kar']\n",
    "print(States)"
   ]
  },
  {
   "cell_type": "code",
   "execution_count": 29,
   "metadata": {},
   "outputs": [
    {
     "name": "stdout",
     "output_type": "stream",
     "text": [
      "{'EmpNo': [100, 101, 102, 103], 'EName': ['Kong', 'Kochar', 'Alex', 'Satish'], 'Salary': [9000, 10000, 7500, 8900]}\n"
     ]
    }
   ],
   "source": [
    "Employee =  {\n",
    "    'EmpNo':[100,101,102,103],\n",
    "    'EName':['Kong','Kochar','Alex','Satish'],\n",
    "    'Salary':[9000,10000,7500,8900]\n",
    "}\n",
    "print(Employee)"
   ]
  },
  {
   "cell_type": "code",
   "execution_count": null,
   "metadata": {},
   "outputs": [],
   "source": []
  }
 ],
 "metadata": {
  "kernelspec": {
   "display_name": "Python 3",
   "language": "python",
   "name": "python3"
  },
  "language_info": {
   "codemirror_mode": {
    "name": "ipython",
    "version": 3
   },
   "file_extension": ".py",
   "mimetype": "text/x-python",
   "name": "python",
   "nbconvert_exporter": "python",
   "pygments_lexer": "ipython3",
   "version": "3.7.6"
  }
 },
 "nbformat": 4,
 "nbformat_minor": 4
}
