{
 "cells": [
  {
   "cell_type": "code",
   "execution_count": 1,
   "metadata": {},
   "outputs": [],
   "source": [
    "# Tuples are fixed size sequences that is they are immutables\n",
    "# Tuples are different from list \n",
    "\n",
    "# Tuples \n",
    "    # Cannot be updated\n",
    "    # Can contain dat of different types\n",
    "    # Are accessed using index\n",
    "    # Are zero based\n",
    "    # Are enclosed in () braces ( optional)\n",
    "    # Are comparable and hashbale\n",
    "    # are faster than lists for read-only operations \n",
    "    # Can be converted to list and vice versa\n",
    "    # Don not have append or extend methods : New elements can't be added to them\n",
    "    # Do not have remove or pop methods : Elements can't be removed from them\n",
    "    # Do not have index method : Elements can't be found in them\n",
    "    # Elements contained in a tuple are comma separated \n",
    "    # Reverse access is possible in a tuple\n",
    "    # Duplication of items is allowed in a tuple\n",
    "    # A tuple can be created with one element by ending it with comma( Example : data = ('abc',))"
   ]
  },
  {
   "cell_type": "code",
   "execution_count": 2,
   "metadata": {},
   "outputs": [
    {
     "name": "stdout",
     "output_type": "stream",
     "text": [
      "(1, 1, 4, 5, 3, 2, 8, 9, 0, 2, 3, 7, 6, 5, 3)\n",
      "<class 'tuple'>\n"
     ]
    }
   ],
   "source": [
    "# Creating tuples\n",
    "tup = (1,1,4,5,3,2,8,9,0,2,3,7,6,5,3)\n",
    "print(tup)\n",
    "print(type(tup))"
   ]
  },
  {
   "cell_type": "code",
   "execution_count": 3,
   "metadata": {},
   "outputs": [
    {
     "name": "stdout",
     "output_type": "stream",
     "text": [
      "('a',)\n",
      "<class 'tuple'>\n"
     ]
    }
   ],
   "source": [
    "tup1 = ('a',)\n",
    "print(tup1)\n",
    "print(type(tup1))"
   ]
  },
  {
   "cell_type": "code",
   "execution_count": 4,
   "metadata": {},
   "outputs": [
    {
     "name": "stdout",
     "output_type": "stream",
     "text": [
      "<class 'str'>\n",
      "a\n"
     ]
    }
   ],
   "source": [
    "data = ('a')\n",
    "print(type(data))\n",
    "print(data)"
   ]
  },
  {
   "cell_type": "code",
   "execution_count": 5,
   "metadata": {},
   "outputs": [
    {
     "name": "stdout",
     "output_type": "stream",
     "text": [
      "('G', 'u', 'i', 'd', 'o', ' ', 'v', 'a', 'n', ' ', 'r', 'o', 's', 's', 'a', 'm')\n",
      "o\n",
      "('d', 'o', ' ', 'v', 'a', 'n')\n"
     ]
    }
   ],
   "source": [
    "tup = tuple('Guido van rossam')\n",
    "print(tup)\n",
    "print(tup[4])\n",
    "print(tup[3:9])"
   ]
  },
  {
   "cell_type": "code",
   "execution_count": 6,
   "metadata": {},
   "outputs": [
    {
     "name": "stdout",
     "output_type": "stream",
     "text": [
      "['G', 'u', 'i', 'd', 'o', ' ', 'v', 'a', 'n', ' ', 'r', 'o', 's', 's', 'a', 'm']\n"
     ]
    }
   ],
   "source": [
    "l = list(tup)\n",
    "print(l)"
   ]
  },
  {
   "cell_type": "code",
   "execution_count": 7,
   "metadata": {},
   "outputs": [
    {
     "name": "stdout",
     "output_type": "stream",
     "text": [
      "(3, 5, 4)  Tuple is greater\n",
      "Length : 3\n",
      "Compare :  True\n",
      "Max :  5\n",
      "Min :  3\n"
     ]
    }
   ],
   "source": [
    "T1 = (3,4,5)\n",
    "T2 = (3,5,4)\n",
    "\n",
    "#Tuple comparison\n",
    "#Compares each element , stops when one is greater else continues\n",
    "#to next elements comparison\n",
    "\n",
    "if T1 > T2:\n",
    "    print(T1, \" Tuple is greater\")\n",
    "else:\n",
    "    print(T2, \" Tuple is greater\")\n",
    "print(\"Length :\" ,len(T2))\n",
    "print(\"Compare : \",T1 < T2) #ret = True if T1 is greater\n",
    "print(\"Max : \", max(T1))\n",
    "print(\"Min : \", min(T2))"
   ]
  },
  {
   "cell_type": "code",
   "execution_count": 8,
   "metadata": {},
   "outputs": [
    {
     "name": "stdout",
     "output_type": "stream",
     "text": [
      "Concatenation :  (3, 4, 5, 3, 5, 4)\n",
      "Repetition :  (3, 5, 4, 3, 5, 4, 3, 5, 4, 3, 5, 4)\n",
      "Membership :  True\n",
      "3\n",
      "5\n",
      "4\n"
     ]
    }
   ],
   "source": [
    "print(\"Concatenation : \", T1+T2)\n",
    "print(\"Repetition : \",T2*4)\n",
    "print(\"Membership : \",4 in T2)\n",
    "\n",
    "for x in T2:  #Iteration of tuple\n",
    "    print(x)"
   ]
  },
  {
   "cell_type": "code",
   "execution_count": null,
   "metadata": {},
   "outputs": [],
   "source": []
  }
 ],
 "metadata": {
  "kernelspec": {
   "display_name": "Python 3",
   "language": "python",
   "name": "python3"
  },
  "language_info": {
   "codemirror_mode": {
    "name": "ipython",
    "version": 3
   },
   "file_extension": ".py",
   "mimetype": "text/x-python",
   "name": "python",
   "nbconvert_exporter": "python",
   "pygments_lexer": "ipython3",
   "version": "3.7.6"
  }
 },
 "nbformat": 4,
 "nbformat_minor": 4
}
