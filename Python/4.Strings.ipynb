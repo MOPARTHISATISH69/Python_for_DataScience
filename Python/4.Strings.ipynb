{
 "cells": [
  {
   "cell_type": "code",
   "execution_count": 1,
   "metadata": {},
   "outputs": [],
   "source": [
    "##### String are immutable \n",
    "##### string is the list if characters is in order\n",
    "##### strings can be defined in single and diuble quotes \n",
    "##### Character type is no supported\n",
    "##### A character is a keystroke ( on keyboard )\n",
    "##### String can have spaces\n",
    "##### if string have zero (0) , is an empty string \n",
    "##### Special characters are delimitated by quotes ( '' or \"\")\n",
    "##### Multi line strings are written in triple quotes ( ''' ''' or \"\"\" \"\"\")\n",
    "##### strings can be accessed using an index"
   ]
  },
  {
   "cell_type": "code",
   "execution_count": 2,
   "metadata": {},
   "outputs": [
    {
     "name": "stdout",
     "output_type": "stream",
     "text": [
      "python supports database programming \n",
      " Python supports socket programming \n",
      " Hi hello \n",
      "how are you buddy \n",
      "Im good\n"
     ]
    }
   ],
   "source": [
    "string1 = 'python supports database programming \\n'\n",
    "string2 = \"Python supports socket programming \\n\"\n",
    "string3 = '''Hi hello \n",
    "how are you buddy \n",
    "Im good'''\n",
    "\n",
    "print(string1,string2,string3)"
   ]
  },
  {
   "cell_type": "code",
   "execution_count": 3,
   "metadata": {},
   "outputs": [
    {
     "name": "stdout",
     "output_type": "stream",
     "text": [
      "string1[0]:  p\n",
      "string2[1:5]:  ytho\n"
     ]
    }
   ],
   "source": [
    "print(\"string1[0]: \", string1[0])\n",
    "print(\"string2[1:5]: \", string2[1:5])"
   ]
  },
  {
   "cell_type": "code",
   "execution_count": 4,
   "metadata": {},
   "outputs": [
    {
     "name": "stdout",
     "output_type": "stream",
     "text": [
      "string2[-5:-1]:  ing \n",
      "string2[-5:-10]:  \n"
     ]
    }
   ],
   "source": [
    "print(\"string2[-5:-1]: \", string1[-5:-1])\n",
    "print(\"string2[-5:-10]: \", string2[-5:-10]) #No output"
   ]
  },
  {
   "cell_type": "code",
   "execution_count": 5,
   "metadata": {},
   "outputs": [
    {
     "name": "stdout",
     "output_type": "stream",
     "text": [
      "Hello world!\n",
      "TestingHello world!\n"
     ]
    }
   ],
   "source": [
    "#Strings are immutable \n",
    "#A new string is created in memory , when updated.\n",
    "#Here is example\n",
    "\n",
    "string = 'Hello world!'\n",
    "print(string)\n",
    "string = 'Testing' + string\n",
    "print(string)"
   ]
  },
  {
   "cell_type": "code",
   "execution_count": 6,
   "metadata": {},
   "outputs": [
    {
     "name": "stdout",
     "output_type": "stream",
     "text": [
      "python supports database programming \n",
      " python supports database programming \n",
      "\n"
     ]
    }
   ],
   "source": [
    "string = string1 + \" \" + string1\n",
    "print(string)"
   ]
  },
  {
   "cell_type": "code",
   "execution_count": 7,
   "metadata": {},
   "outputs": [],
   "source": [
    "# Escape sequences in strings\n",
    "# '\\n' new line\n",
    "# '\\t' tab\n",
    "# '\\a' alert\n",
    "# '\\b' backspace\n",
    "# '\\f' formfeed\n",
    "\n",
    "#here is the example\n",
    "\n",
    "tabby_cat = \"\\t I'm tabbed in.\"\n",
    "persian_cat = \"I'm split\\non a line\"\n",
    "backslash_cat = \"I'm \\\\a \\\\ cat.\"\n",
    "\n",
    "fat_cat = \"\"\" \n",
    "I'll do a list:\n",
    "\\t* cat food\n",
    "\\t* Finishes\n",
    "\\t* Catnip\\n\\t* Grass\n",
    "\"\"\"\n"
   ]
  },
  {
   "cell_type": "code",
   "execution_count": 8,
   "metadata": {},
   "outputs": [
    {
     "name": "stdout",
     "output_type": "stream",
     "text": [
      "\t I'm tabbed in.\n",
      "I'm split\n",
      "on a line\n",
      "I'm \\a \\ cat.\n",
      " \n",
      "I'll do a list:\n",
      "\t* cat food\n",
      "\t* Finishes\n",
      "\t* Catnip\n",
      "\t* Grass\n",
      "\n"
     ]
    }
   ],
   "source": [
    "print(tabby_cat)\n",
    "print(persian_cat)\n",
    "print(backslash_cat)\n",
    "print(fat_cat)"
   ]
  },
  {
   "cell_type": "code",
   "execution_count": 9,
   "metadata": {},
   "outputs": [
    {
     "name": "stdout",
     "output_type": "stream",
     "text": [
      "Ram\b\bKumar\n",
      "Ram\u0007kumar\u0007\n"
     ]
    }
   ],
   "source": [
    "print(\"Ram\\b\\bKumar\")\n",
    "print(\"Ram\\akumar\\a\") #two beeps"
   ]
  },
  {
   "cell_type": "code",
   "execution_count": 10,
   "metadata": {},
   "outputs": [],
   "source": [
    "#Types of string operators \n",
    "# + --> Concatenation\n",
    "# * --> Repetition\n",
    "# [] --> Subscript\n",
    "# [:] --> Slice\n",
    "# in --> membership\n",
    "# not in --> membership\n",
    "# r/R --> Raw string\n",
    "# % --> Format"
   ]
  },
  {
   "cell_type": "code",
   "execution_count": 11,
   "metadata": {},
   "outputs": [
    {
     "name": "stdout",
     "output_type": "stream",
     "text": [
      "Great day for the python programmingGreat day for the python programming\n"
     ]
    }
   ],
   "source": [
    "stri = \"Great day for the python programming\"\n",
    "stri = stri + stri  # Concatenation\n",
    "print(stri)"
   ]
  },
  {
   "cell_type": "code",
   "execution_count": 12,
   "metadata": {},
   "outputs": [
    {
     "name": "stdout",
     "output_type": "stream",
     "text": [
      "Great day for the python programmingGreat day for the python programmingGreat day for the python programming\n"
     ]
    }
   ],
   "source": [
    "stri = \"Great day for the python programming\"\n",
    "stri = stri * 3  # Repetition\n",
    "print(stri)"
   ]
  },
  {
   "cell_type": "code",
   "execution_count": 13,
   "metadata": {},
   "outputs": [],
   "source": [
    "stri = \"Great day for the python programming\""
   ]
  },
  {
   "cell_type": "code",
   "execution_count": 14,
   "metadata": {},
   "outputs": [
    {
     "name": "stdout",
     "output_type": "stream",
     "text": [
      " \n",
      "reat\n",
      "True\n",
      "False\n",
      "r'\n",
      " prints \n",
      " and print \n",
      " ram\n"
     ]
    }
   ],
   "source": [
    "print(stri[13]) #subscript\n",
    "print(stri[1:5]) #slice\n",
    "print('G' in stri) # membership\n",
    "print('d' not in stri) # membership\n",
    "print(\"r'\\n prints \\n and print \\n ram\") #Raw string "
   ]
  },
  {
   "cell_type": "code",
   "execution_count": 15,
   "metadata": {},
   "outputs": [],
   "source": [
    "# String methods \n",
    "# Capitalize --> Capitalises the first letter of a string \n",
    "# count --> Count of string occurance\n",
    "# find --> Index of the first occurance else -1\n",
    "# isalnum --> at least one char is alpha or numeric \n",
    "# isalpha --> True if full string is alphabetic\n",
    "# isdigit --> True if full string is numeric\n",
    "# islower --> True if full string is in lowercase\n",
    "# istitle --> True if full string is title case\n",
    "# isupper --> True if full string is uppercase\n",
    "# len --> Length of the string\n",
    "# split --> spilts the string  based on a delimeter\n",
    "# swapcase --> Reverses the string casing\n",
    "# title --> Title cases the string\n",
    "# lower --> Converts the string into lowercase\n",
    "# upper --> converts the string into uppercase"
   ]
  },
  {
   "cell_type": "code",
   "execution_count": 16,
   "metadata": {},
   "outputs": [
    {
     "name": "stdout",
     "output_type": "stream",
     "text": [
      "Capitilize :  Python\n"
     ]
    }
   ],
   "source": [
    "\n",
    "#Example\n",
    "\n",
    "v1 = \"python\"\n",
    "v2 = \"#######\"\n",
    "v3 = \"abcd\"\n",
    "v4 = \"1234\"\n",
    "v5 = \"great day for python programming\"\n",
    "\n",
    "print(\"Capitilize : \", v1.capitalize())"
   ]
  },
  {
   "cell_type": "code",
   "execution_count": 17,
   "metadata": {},
   "outputs": [
    {
     "name": "stdout",
     "output_type": "stream",
     "text": [
      "Count:  1\n",
      "Index :  1\n",
      "find :  1\n",
      "isalnum:  False\n",
      "isalpha:  True\n",
      "isdigit:  True\n",
      "islower:  True\n",
      "isupper:  False\n",
      "istitle:  False\n",
      "Length :  4\n",
      "Lower:  great day for python programming\n",
      "split:  ['great', 'day', 'for', 'python', 'programming']\n",
      "swapcase :  ABCD\n",
      "Title:  Great Day For Python Programming\n",
      "Upper :  ABCD\n"
     ]
    }
   ],
   "source": [
    "print(\"Count: \", v1.count('y',0,len(v1))) #count of occurance -- char/string\n",
    "print(\"Index : \",v1.index('y',0,len(v1))) # same as index but raises exception if str is not found\n",
    "print(\"find : \",v1.find('y',0,len(v1))) # index of first occurance else -1\n",
    "print(\"isalnum: \", v2.isalnum())\n",
    "print(\"isalpha: \",v3.isalpha())\n",
    "print(\"isdigit: \",v4.isdigit())\n",
    "print(\"islower: \",v3.islower())\n",
    "print(\"isupper: \",v3.isupper())\n",
    "print(\"istitle: \",v3.istitle()) #True if string is title cased\n",
    "print(\"Length : \",len(v3))\n",
    "print(\"Lower: \",v5.lower())\n",
    "print(\"split: \",v5.split(\" \"))\n",
    "print(\"swapcase : \",v3.swapcase())\n",
    "print(\"Title: \",v5.title())\n",
    "print(\"Upper : \",v3.upper())"
   ]
  },
  {
   "cell_type": "code",
   "execution_count": 18,
   "metadata": {},
   "outputs": [
    {
     "name": "stdout",
     "output_type": "stream",
     "text": [
      "True\n",
      "False\n",
      "True\n",
      "True\n",
      "False\n",
      "False\n",
      "True\n",
      "8\n",
      "-1\n",
      "35\n",
      "35\n"
     ]
    }
   ],
   "source": [
    "print('12' == '12')\n",
    "print(\"17\" == \"9\")\n",
    "print(\"12\" == '12')\n",
    "print(\"12\" == \"12\")\n",
    "print(\"aa\" == \"ab\")\n",
    "print(\"abc\" != \"abc\")\n",
    "print(\"abc\" == \"abc\")\n",
    "\n",
    "a = \"I saw a wolf in the forest. A lone wolf.\"\n",
    "\n",
    "print(a.find(\"wolf\"))\n",
    "print(a.find(\"wolf\",10,20))\n",
    "print(a.find(\"wolf\",15))\n",
    "print(a.rfind(\"wolf\"))   #reverse find"
   ]
  },
  {
   "cell_type": "code",
   "execution_count": 19,
   "metadata": {},
   "outputs": [
    {
     "name": "stdout",
     "output_type": "stream",
     "text": [
      "I saw a fox in the forest. A lone fox.\n",
      "I saw a fox in the forest. A lone wolf.\n"
     ]
    }
   ],
   "source": [
    "b = a.replace(\"wolf\",\"fox\")\n",
    "print(b)\n",
    "c = a.replace(\"wolf\",\"fox\",1)\n",
    "print(c)"
   ]
  },
  {
   "cell_type": "code",
   "execution_count": 20,
   "metadata": {},
   "outputs": [
    {
     "name": "stdout",
     "output_type": "stream",
     "text": [
      "There are  100 Characters in the string sentence\n",
      "There are  77 alphabetic characters\n",
      "There are  3 Digits\n",
      "There are  19 blank spaces\n"
     ]
    }
   ],
   "source": [
    "sentence = \"There are 22 apples in basket this morning , where 5 were taken by kids and remaining kept in fridge\"\n",
    "\n",
    "alphas = 0\n",
    "digits = 0\n",
    "spaces = 0\n",
    "\n",
    "for i in sentence:\n",
    "    if i.isalpha():\n",
    "        alphas += 1\n",
    "    if i.isdigit():\n",
    "        digits += 1\n",
    "    if i.isspace():\n",
    "        spaces += 1\n",
    "print(\"There are \", len(sentence), \"Characters in the string sentence\")\n",
    "print(\"There are \", alphas , \"alphabetic characters\")\n",
    "print(\"There are \", digits , \"Digits\")\n",
    "print(\"There are \", spaces , \"blank spaces\")\n"
   ]
  },
  {
   "cell_type": "code",
   "execution_count": 21,
   "metadata": {},
   "outputs": [],
   "source": [
    "# Strings cannot be changed \n",
    "# Opertors help in string manipulation\n",
    "# The reverse search on s string is done by using 'rfind' method\n",
    "# The \"split\" method is used to split the string based on s delimeter"
   ]
  },
  {
   "cell_type": "code",
   "execution_count": null,
   "metadata": {},
   "outputs": [],
   "source": []
  }
 ],
 "metadata": {
  "kernelspec": {
   "display_name": "Python 3",
   "language": "python",
   "name": "python3"
  },
  "language_info": {
   "codemirror_mode": {
    "name": "ipython",
    "version": 3
   },
   "file_extension": ".py",
   "mimetype": "text/x-python",
   "name": "python",
   "nbconvert_exporter": "python",
   "pygments_lexer": "ipython3",
   "version": "3.7.6"
  }
 },
 "nbformat": 4,
 "nbformat_minor": 4
}
