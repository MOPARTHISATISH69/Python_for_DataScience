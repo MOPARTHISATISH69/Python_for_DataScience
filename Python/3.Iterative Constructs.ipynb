{
 "cells": [
  {
   "cell_type": "code",
   "execution_count": 1,
   "metadata": {},
   "outputs": [
    {
     "name": "stdout",
     "output_type": "stream",
     "text": [
      "Enter math marks 12\n",
      "Enter social marks23\n",
      "Enter science marks 34\n",
      "student not Qualified for next grade\n"
     ]
    }
   ],
   "source": [
    "math_marks = int(input(\"Enter math marks \"))\n",
    "social_marks = int(input(\"Enter social marks\"))\n",
    "science_marks = int(input(\"Enter science marks \"))\n",
    "total = math_marks + social_marks + science_marks\n",
    "average = total/3\n",
    "if average > 75:\n",
    "    print(\"Student qualified for next grade\")\n",
    "else:\n",
    "    print(\"student not Qualified for next grade\")"
   ]
  },
  {
   "cell_type": "code",
   "execution_count": 2,
   "metadata": {},
   "outputs": [
    {
     "name": "stdout",
     "output_type": "stream",
     "text": [
      "Enter number of students : 3\n",
      "Enter math marks 23\n",
      "Enter social marks45\n",
      "Enter science marks 76\n",
      "student not Qualified for next grade\n",
      "Enter math marks 89\n",
      "Enter social marks90\n",
      "Enter science marks 78\n",
      "Student qualified for next grade\n",
      "Enter math marks 34\n",
      "Enter social marks67\n",
      "Enter science marks 100\n",
      "student not Qualified for next grade\n",
      "Done.\n"
     ]
    }
   ],
   "source": [
    "# iterate for multiple students \n",
    "NoofStudents = int(input(\"Enter number of students : \"))\n",
    "count_of_students = 1\n",
    "while count_of_students <= NoofStudents:\n",
    "    math_marks = int(input(\"Enter math marks \"))\n",
    "    social_marks = int(input(\"Enter social marks\"))\n",
    "    science_marks = int(input(\"Enter science marks \"))\n",
    "    total = math_marks + social_marks + science_marks\n",
    "    average = total/3\n",
    "    if average > 75:\n",
    "        print(\"Student qualified for next grade\")\n",
    "    else:\n",
    "        print(\"student not Qualified for next grade\")\n",
    "    count_of_students += 1\n",
    "print('Done.')"
   ]
  },
  {
   "cell_type": "code",
   "execution_count": 3,
   "metadata": {},
   "outputs": [
    {
     "name": "stdout",
     "output_type": "stream",
     "text": [
      "47.73\n"
     ]
    }
   ],
   "source": [
    "List1 = [10,20,30,40,50,60,70,98,34,56,22,46,78,12,90]\n",
    "count = 0\n",
    "Sum = 0\n",
    "for index in List1:\n",
    "    count += 1\n",
    "    Sum = Sum + index\n",
    "mean = round(Sum/count,2)\n",
    "print(mean)"
   ]
  },
  {
   "cell_type": "code",
   "execution_count": null,
   "metadata": {},
   "outputs": [],
   "source": []
  }
 ],
 "metadata": {
  "kernelspec": {
   "display_name": "Python 3",
   "language": "python",
   "name": "python3"
  },
  "language_info": {
   "codemirror_mode": {
    "name": "ipython",
    "version": 3
   },
   "file_extension": ".py",
   "mimetype": "text/x-python",
   "name": "python",
   "nbconvert_exporter": "python",
   "pygments_lexer": "ipython3",
   "version": "3.7.6"
  }
 },
 "nbformat": 4,
 "nbformat_minor": 4
}
