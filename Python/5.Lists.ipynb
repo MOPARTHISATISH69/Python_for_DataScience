{
 "cells": [
  {
   "cell_type": "code",
   "execution_count": 1,
   "metadata": {},
   "outputs": [],
   "source": [
    "# List is a mutable container. It can contain mixed type\n",
    "# Lists can be updated\n",
    "# List can contain data of different types\n",
    "# Lists are an ordered collection of values\n",
    "# Lists are zero based ( can be accessed in reverse order)\n",
    "# Elements contained in a list are comma separated\n",
    "# Reverse access is possible in a list\n",
    "# Duplication of items is allowed in a list\n",
    "# Lists are dynamically changeable ( they are not mutable)"
   ]
  },
  {
   "cell_type": "code",
   "execution_count": 2,
   "metadata": {},
   "outputs": [
    {
     "name": "stdout",
     "output_type": "stream",
     "text": [
      "0(Zeorth) index of list1 is  Satish\n",
      "list2[1:5] is  [2, 3, 4, 5]\n"
     ]
    }
   ],
   "source": [
    "# Example -::- Creating and accessing lists\n",
    "\n",
    "list1 = ['Satish','sateesh','sathish',1992,1994,'']\n",
    "list2 = [1,2,3,4,5,6]\n",
    "list3 = ['a','b','c','d','e']\n",
    "\n",
    "print(\"0(Zeorth) index of list1 is \",list1[0])\n",
    "print(\"list2[1:5] is \", list2[1:5])"
   ]
  },
  {
   "cell_type": "code",
   "execution_count": 3,
   "metadata": {},
   "outputs": [
    {
     "name": "stdout",
     "output_type": "stream",
     "text": [
      "New value available at index 2 : 2001\n",
      "[1, 2, 2001, 4, 5, 6]\n"
     ]
    }
   ],
   "source": [
    "list2[2] = 2001\n",
    "print(\"New value available at index 2 :\",list2[2])\n",
    "print(list2)"
   ]
  },
  {
   "cell_type": "code",
   "execution_count": 4,
   "metadata": {},
   "outputs": [
    {
     "name": "stdout",
     "output_type": "stream",
     "text": [
      "After value available at index 2 : 4\n",
      "[1, 2, 4, 5, 6]\n"
     ]
    }
   ],
   "source": [
    "del list2[2]\n",
    "print(\"After value available at index 2 :\",list2[2])\n",
    "print(list2)"
   ]
  },
  {
   "cell_type": "code",
   "execution_count": 5,
   "metadata": {},
   "outputs": [
    {
     "name": "stdout",
     "output_type": "stream",
     "text": [
      "length:  3\n",
      "len of names list is :  4\n",
      "Names + names is :  ['Satish', 'sathish', 'sateesh', 'Deadly', 'Combination', 'ashok', 'ram', 'srinu', 'india']\n",
      "Repetition of Names list is : ['Satish', 'sathish', 'sateesh', 'Deadly', 'Combination', 'Satish', 'sathish', 'sateesh', 'Deadly', 'Combination']\n"
     ]
    }
   ],
   "source": [
    "# Working with Operators\n",
    "\n",
    "# '+'  --> Concatenation\n",
    "# '*'  --> Repetition\n",
    "# 'in' --> Membership\n",
    "\n",
    "Names = [\"Satish\",\"sathish\",\"sateesh\",\"Deadly\",\"Combination\"]\n",
    "names = [\"ashok\",\"ram\",\"srinu\",\"india\"]\n",
    "\n",
    "print(\"length: \",len([1,2,3]))\n",
    "print(\"len of names list is : \", len(names))\n",
    "print(\"Names + names is : \" ,Names+names)\n",
    "print(\"Repetition of Names list is :\",Names*2)"
   ]
  },
  {
   "cell_type": "code",
   "execution_count": 6,
   "metadata": {},
   "outputs": [
    {
     "name": "stdout",
     "output_type": "stream",
     "text": [
      "Satish in Names :  True\n"
     ]
    }
   ],
   "source": [
    "print(\"Satish in Names : \", \"Satish\" in Names)"
   ]
  },
  {
   "cell_type": "code",
   "execution_count": 7,
   "metadata": {},
   "outputs": [
    {
     "name": "stdout",
     "output_type": "stream",
     "text": [
      "Satish\n",
      "sathish\n",
      "sateesh\n",
      "Deadly\n",
      "Combination\n"
     ]
    }
   ],
   "source": [
    "for obj in Names: # iterate over a list \n",
    "    print(obj)"
   ]
  },
  {
   "cell_type": "code",
   "execution_count": 8,
   "metadata": {},
   "outputs": [
    {
     "name": "stdout",
     "output_type": "stream",
     "text": [
      "[1, -2, 5, 4, None, False, [1, 2], 'Python', (2, 3), {}]\n",
      "1\n",
      "-2\n",
      "5\n",
      "4\n",
      "None\n",
      "False\n",
      "[1, 2]\n",
      "Python\n",
      "(2, 3)\n",
      "{}\n"
     ]
    }
   ],
   "source": [
    "# To demonstrate heterogeneous data list , initialization of list, and list function\n",
    "\n",
    "# List heterogeneous objects \n",
    "\n",
    "objects = [1,-2,5,4,None,False,[1,2],\"Python\",(2,3),{}]\n",
    "print(objects)\n",
    "for obj in objects:\n",
    "    print(obj)"
   ]
  },
  {
   "cell_type": "code",
   "execution_count": 9,
   "metadata": {},
   "outputs": [
    {
     "name": "stdout",
     "output_type": "stream",
     "text": [
      "List initialization\n",
      "[0, 0, 0, 0, 0, 0, 0, 0, 0, 0, 0, 0, 0, 0, 0] [0, 0, 0, 0, 0, 0, 0, 0, 0, 0, 0, 0, 0, 0, 0]\n"
     ]
    }
   ],
   "source": [
    "# List initialization\n",
    "\n",
    "print(\"List initialization\")\n",
    "N1 = [0 for i in range(15)]\n",
    "N2 = [0]*15\n",
    "print(N1,N2)"
   ]
  },
  {
   "cell_type": "code",
   "execution_count": 10,
   "metadata": {},
   "outputs": [
    {
     "name": "stdout",
     "output_type": "stream",
     "text": [
      "[10, 10, 10, 10, 10, 10, 10, 10, 10, 10, 0, 0, 0, 0]\n"
     ]
    }
   ],
   "source": [
    "N1[0:11] = [10] * 10 #slice operator\n",
    "print(N1)# List functions ( List())"
   ]
  },
  {
   "cell_type": "code",
   "execution_count": 11,
   "metadata": {},
   "outputs": [
    {
     "name": "stdout",
     "output_type": "stream",
     "text": [
      "List functions ()\n",
      "True\n",
      "[1, 2, 3, 4]\n",
      "['Ruby', 'Python', 'Java']\n"
     ]
    }
   ],
   "source": [
    "print(\"List functions ()\")\n",
    "\n",
    "a = []\n",
    "b = list()\n",
    "print(a == b)\n",
    "print(list((1,2,3,4))) # Type cast ( converting the tuple to list)\n",
    "print(list(['Ruby','Python','Java']))\n"
   ]
  },
  {
   "cell_type": "code",
   "execution_count": 12,
   "metadata": {},
   "outputs": [
    {
     "name": "stdout",
     "output_type": "stream",
     "text": [
      "True\n",
      "['python', 'Java']\n"
     ]
    }
   ],
   "source": [
    "# List Methods\n",
    "\n",
    "# Appending and removing items\n",
    "\n",
    "langs = list()\n",
    "langs1 = []\n",
    "print(langs == langs1)\n",
    "\n",
    "langs.append(\"python\")\n",
    "langs.append(\"Java\")\n",
    "print(langs)\n"
   ]
  },
  {
   "cell_type": "code",
   "execution_count": 13,
   "metadata": {},
   "outputs": [
    {
     "data": {
      "text/plain": [
       "['C++', 'python', 'Java']"
      ]
     },
     "execution_count": 13,
     "metadata": {},
     "output_type": "execute_result"
    }
   ],
   "source": [
    "langs.insert(0,'C++')\n",
    "langs"
   ]
  },
  {
   "cell_type": "code",
   "execution_count": 14,
   "metadata": {},
   "outputs": [
    {
     "data": {
      "text/plain": [
       "['C++', 'python', 'Java', 'Javascript', 'AngularJs']"
      ]
     },
     "execution_count": 14,
     "metadata": {},
     "output_type": "execute_result"
    }
   ],
   "source": [
    "langs.extend((\"Javascript\",\"AngularJs\"))\n",
    "langs"
   ]
  },
  {
   "cell_type": "code",
   "execution_count": 15,
   "metadata": {},
   "outputs": [],
   "source": [
    "langs.extend(\"Perl\")"
   ]
  },
  {
   "cell_type": "code",
   "execution_count": 16,
   "metadata": {},
   "outputs": [
    {
     "data": {
      "text/plain": [
       "['C++',\n",
       " 'python',\n",
       " 'Java',\n",
       " 'Javascript',\n",
       " 'AngularJs',\n",
       " 'P',\n",
       " 'e',\n",
       " 'r',\n",
       " 'l',\n",
       " 'ReactJs',\n",
       " 'NodeJs']"
      ]
     },
     "execution_count": 16,
     "metadata": {},
     "output_type": "execute_result"
    }
   ],
   "source": [
    "newlangs = [\"ReactJs\",\"NodeJs\"]\n",
    "langs.extend(newlangs) #appending a list\n",
    "langs"
   ]
  },
  {
   "cell_type": "code",
   "execution_count": 17,
   "metadata": {},
   "outputs": [
    {
     "data": {
      "text/plain": [
       "'Javascript'"
      ]
     },
     "execution_count": 17,
     "metadata": {},
     "output_type": "execute_result"
    }
   ],
   "source": [
    "langs.pop(3)"
   ]
  },
  {
   "cell_type": "code",
   "execution_count": 18,
   "metadata": {},
   "outputs": [
    {
     "data": {
      "text/plain": [
       "<function list.pop(index=-1, /)>"
      ]
     },
     "execution_count": 18,
     "metadata": {},
     "output_type": "execute_result"
    }
   ],
   "source": [
    "langs.pop"
   ]
  },
  {
   "cell_type": "code",
   "execution_count": 19,
   "metadata": {},
   "outputs": [
    {
     "name": "stdout",
     "output_type": "stream",
     "text": [
      "['C++', 'python', 'Java', 'AngularJs', 'P', 'e', 'r', 'l', 'ReactJs', 'NodeJs']\n"
     ]
    }
   ],
   "source": [
    "print(langs)"
   ]
  },
  {
   "cell_type": "code",
   "execution_count": 20,
   "metadata": {},
   "outputs": [
    {
     "data": {
      "text/plain": [
       "['C++', 'python', 'AngularJs', 'P', 'e', 'r', 'l', 'ReactJs', 'NodeJs']"
      ]
     },
     "execution_count": 20,
     "metadata": {},
     "output_type": "execute_result"
    }
   ],
   "source": [
    "langs.remove(\"Java\")\n",
    "langs"
   ]
  },
  {
   "cell_type": "code",
   "execution_count": 21,
   "metadata": {},
   "outputs": [
    {
     "name": "stdout",
     "output_type": "stream",
     "text": [
      "Enumerate\n",
      "N[ 0 ] is  1\n",
      "N[ 1 ] is  4\n",
      "N[ 2 ] is  9\n",
      "N[ 3 ] is  16\n",
      "N[ 4 ] is  25\n",
      "N[ 5 ] is  36\n",
      "N[ 6 ] is  49\n",
      "N[ 7 ] is  64\n",
      "N[ 8 ] is  81\n",
      "N[ 9 ] is  100\n"
     ]
    }
   ],
   "source": [
    "# Using Enumerate method\n",
    "print(\"Enumerate\")\n",
    "N = [1,4,9,16,25,36,49,64,81,100]\n",
    "for e,i in enumerate(N):\n",
    "    print(\"N[\",e,\"] is \",i)"
   ]
  },
  {
   "cell_type": "code",
   "execution_count": 22,
   "metadata": {},
   "outputs": [
    {
     "name": "stdout",
     "output_type": "stream",
     "text": [
      "Count method\n",
      "3\n",
      "Count of digit 5 is  3\n"
     ]
    }
   ],
   "source": [
    "# Usage of count method , to find how many time an element occurs in list\n",
    "\n",
    "print(\"Count method\")\n",
    "N = [1,2,1,4,5,3,5,4,1,2,8,4,3,5,0,3]\n",
    "print(N.count(4))\n",
    "print(\"Count of digit 5 is \",N.count(5))"
   ]
  },
  {
   "cell_type": "code",
   "execution_count": 23,
   "metadata": {},
   "outputs": [
    {
     "name": "stdout",
     "output_type": "stream",
     "text": [
      "Nested list -::- List with in a list\n",
      "[1, 2]\n",
      "45\n",
      "4\n"
     ]
    }
   ],
   "source": [
    "# Nested list\n",
    "print(\"Nested list -::- List with in a list\")\n",
    "Num = [[1,2],4,5,[2,3,45],0,98,[1,2,3,4]]\n",
    "print(Num[0])\n",
    "print(Num[3][2])\n",
    "print(Num[6][3])"
   ]
  },
  {
   "cell_type": "code",
   "execution_count": 24,
   "metadata": {},
   "outputs": [
    {
     "name": "stdout",
     "output_type": "stream",
     "text": [
      "Sorting and Reversing the list\n",
      "Sorted order is : [0, 1, 1, 3, 3, 4, 4, 7, 8, 9]\n",
      "Reverse order is :  [9, 8, 7, 4, 4, 3, 3, 1, 1, 0]\n"
     ]
    }
   ],
   "source": [
    "# Sort and reverse the list\n",
    "print(\"Sorting and Reversing the list\")\n",
    "\n",
    "N = [3,4,1,8,0,4,7,3,1,9]\n",
    "N.sort()\n",
    "print(\"Sorted order is :\", N)\n",
    "N.sort(reverse = True)\n",
    "print(\"Reverse order is : \", N)"
   ]
  },
  {
   "cell_type": "code",
   "execution_count": 25,
   "metadata": {},
   "outputs": [
    {
     "data": {
      "text/plain": [
       "['Ant', 'Color', 'aPple', 'ant', 'apple', 'bear', 'zebra']"
      ]
     },
     "execution_count": 25,
     "metadata": {},
     "output_type": "execute_result"
    }
   ],
   "source": [
    "A1 = [\"bear\",\"apple\",\"zebra\",\"Ant\",\"ant\",\"aPple\",\"Color\"]\n",
    "A1.sort()\n",
    "A1"
   ]
  },
  {
   "cell_type": "code",
   "execution_count": 26,
   "metadata": {},
   "outputs": [
    {
     "name": "stdout",
     "output_type": "stream",
     "text": [
      "[0, 1, 1, 3, 3, 4, 4, 7, 8, 9]\n"
     ]
    }
   ],
   "source": [
    "N.reverse()\n",
    "print(N)    "
   ]
  },
  {
   "cell_type": "code",
   "execution_count": null,
   "metadata": {},
   "outputs": [],
   "source": []
  }
 ],
 "metadata": {
  "kernelspec": {
   "display_name": "Python 3",
   "language": "python",
   "name": "python3"
  },
  "language_info": {
   "codemirror_mode": {
    "name": "ipython",
    "version": 3
   },
   "file_extension": ".py",
   "mimetype": "text/x-python",
   "name": "python",
   "nbconvert_exporter": "python",
   "pygments_lexer": "ipython3",
   "version": "3.7.6"
  }
 },
 "nbformat": 4,
 "nbformat_minor": 4
}
