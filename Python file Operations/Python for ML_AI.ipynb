{
 "cells": [
  {
   "cell_type": "markdown",
   "metadata": {},
   "source": [
    "### Data types and it's operations"
   ]
  },
  {
   "cell_type": "code",
   "execution_count": 1,
   "metadata": {},
   "outputs": [
    {
     "name": "stdout",
     "output_type": "stream",
     "text": [
      "Hello python\n"
     ]
    }
   ],
   "source": [
    "x = 'Hello python'\n",
    "print(x)"
   ]
  },
  {
   "cell_type": "code",
   "execution_count": 2,
   "metadata": {},
   "outputs": [
    {
     "name": "stdout",
     "output_type": "stream",
     "text": [
      "15\n"
     ]
    }
   ],
   "source": [
    "y =15\n",
    "print(y)"
   ]
  },
  {
   "cell_type": "code",
   "execution_count": 3,
   "metadata": {},
   "outputs": [
    {
     "name": "stdout",
     "output_type": "stream",
     "text": [
      "<class 'str'>\n",
      "<class 'int'>\n"
     ]
    }
   ],
   "source": [
    "print(type(x))\n",
    "print(type(y))"
   ]
  },
  {
   "cell_type": "code",
   "execution_count": 4,
   "metadata": {},
   "outputs": [
    {
     "name": "stdout",
     "output_type": "stream",
     "text": [
      "<class 'float'>\n",
      "7.5\n"
     ]
    }
   ],
   "source": [
    "f = 7.5\n",
    "print(type(f))\n",
    "print(f)"
   ]
  },
  {
   "cell_type": "code",
   "execution_count": 5,
   "metadata": {},
   "outputs": [
    {
     "name": "stdout",
     "output_type": "stream",
     "text": [
      "<class 'bool'>\n",
      "True\n"
     ]
    }
   ],
   "source": [
    "b = True\n",
    "print(type(b))\n",
    "print(b)"
   ]
  },
  {
   "cell_type": "code",
   "execution_count": 6,
   "metadata": {},
   "outputs": [
    {
     "name": "stdout",
     "output_type": "stream",
     "text": [
      "<class 'str'>\n"
     ]
    }
   ],
   "source": [
    "print(type('56')) #as it enclosed in single quotes it is String"
   ]
  },
  {
   "cell_type": "code",
   "execution_count": 7,
   "metadata": {},
   "outputs": [
    {
     "name": "stdout",
     "output_type": "stream",
     "text": [
      "10 11 12\n"
     ]
    }
   ],
   "source": [
    "x,y,z = 10,11,12 \n",
    "print(x,y,z)"
   ]
  },
  {
   "cell_type": "code",
   "execution_count": 9,
   "metadata": {},
   "outputs": [
    {
     "name": "stdout",
     "output_type": "stream",
     "text": [
      "10 11 13\n"
     ]
    }
   ],
   "source": [
    "x = 10;y=11;z=13\n",
    "print(x,y,z)"
   ]
  },
  {
   "cell_type": "code",
   "execution_count": 11,
   "metadata": {},
   "outputs": [
    {
     "name": "stdout",
     "output_type": "stream",
     "text": [
      "21\n",
      "-1\n",
      "110\n",
      "0.9090909090909091\n",
      "100000000000\n",
      "10\n",
      "0\n"
     ]
    }
   ],
   "source": [
    "print(x+y) # addition\n",
    "print(x-y) # substraction\n",
    "print(x*y) # multiplication\n",
    "print(x/y) # division\n",
    "print(x**y) #x power of y\n",
    "print(x%y) # modulus \n",
    "print(x//y) #quotient "
   ]
  },
  {
   "cell_type": "code",
   "execution_count": 12,
   "metadata": {},
   "outputs": [
    {
     "name": "stdout",
     "output_type": "stream",
     "text": [
      "True\n",
      "False\n"
     ]
    }
   ],
   "source": [
    "print(5==5)\n",
    "print(5==6)"
   ]
  },
  {
   "cell_type": "code",
   "execution_count": 13,
   "metadata": {},
   "outputs": [
    {
     "name": "stdout",
     "output_type": "stream",
     "text": [
      "hellohi\n",
      "hellohello hihi\n"
     ]
    }
   ],
   "source": [
    "h = 'hello'\n",
    "H = 'hi'\n",
    "print(h+H)\n",
    "print(h*2,H*2)"
   ]
  },
  {
   "cell_type": "code",
   "execution_count": 14,
   "metadata": {},
   "outputs": [
    {
     "ename": "TypeError",
     "evalue": "can only concatenate str (not \"int\") to str",
     "output_type": "error",
     "traceback": [
      "\u001b[1;31m---------------------------------------------------------------------------\u001b[0m",
      "\u001b[1;31mTypeError\u001b[0m                                 Traceback (most recent call last)",
      "\u001b[1;32m<ipython-input-14-4b752898dedd>\u001b[0m in \u001b[0;36m<module>\u001b[1;34m\u001b[0m\n\u001b[1;32m----> 1\u001b[1;33m \u001b[0mprint\u001b[0m\u001b[1;33m(\u001b[0m\u001b[0mh\u001b[0m\u001b[1;33m+\u001b[0m\u001b[0mx\u001b[0m\u001b[1;33m)\u001b[0m\u001b[1;33m\u001b[0m\u001b[1;33m\u001b[0m\u001b[0m\n\u001b[0m",
      "\u001b[1;31mTypeError\u001b[0m: can only concatenate str (not \"int\") to str"
     ]
    }
   ],
   "source": [
    "print(h+x) # Throws error because a number cannot convatenate with string "
   ]
  },
  {
   "cell_type": "code",
   "execution_count": 15,
   "metadata": {},
   "outputs": [
    {
     "name": "stdout",
     "output_type": "stream",
     "text": [
      "hello10\n"
     ]
    }
   ],
   "source": [
    "print(h+str(x))"
   ]
  },
  {
   "cell_type": "code",
   "execution_count": 16,
   "metadata": {},
   "outputs": [
    {
     "name": "stdout",
     "output_type": "stream",
     "text": [
      "Enter the number5\n",
      "5\n",
      "<class 'str'>\n"
     ]
    }
   ],
   "source": [
    "#Taking user input\n",
    "E = input(\"Enter the number\")\n",
    "print(E)\n",
    "print(type(E))\n",
    "#By default input takes string to convert it to int we have provide typecast"
   ]
  },
  {
   "cell_type": "code",
   "execution_count": 17,
   "metadata": {},
   "outputs": [
    {
     "name": "stdout",
     "output_type": "stream",
     "text": [
      "Enter age 43\n"
     ]
    }
   ],
   "source": [
    "e = int(input(\"Enter age \"))"
   ]
  },
  {
   "cell_type": "code",
   "execution_count": 18,
   "metadata": {},
   "outputs": [
    {
     "name": "stdout",
     "output_type": "stream",
     "text": [
      "<class 'int'>\n"
     ]
    }
   ],
   "source": [
    "print(type(e))"
   ]
  },
  {
   "cell_type": "code",
   "execution_count": 19,
   "metadata": {},
   "outputs": [
    {
     "name": "stdout",
     "output_type": "stream",
     "text": [
      "[2, 4.5, False, 'w']\n",
      "<class 'list'>\n"
     ]
    }
   ],
   "source": [
    "# here we can how lists work \n",
    "\n",
    "lst = [2,4.5,False,'w']\n",
    "print(lst)\n",
    "print(type(lst))"
   ]
  },
  {
   "cell_type": "code",
   "execution_count": 20,
   "metadata": {},
   "outputs": [
    {
     "name": "stdout",
     "output_type": "stream",
     "text": [
      "[10, 20]\n"
     ]
    }
   ],
   "source": [
    "#List stores hetrogenes data \n",
    "mylist = [] #empty list\n",
    "mylist.append(10)\n",
    "mylist.append(20)\n",
    "print(mylist)"
   ]
  },
  {
   "cell_type": "code",
   "execution_count": 21,
   "metadata": {},
   "outputs": [
    {
     "data": {
      "text/plain": [
       "20"
      ]
     },
     "execution_count": 21,
     "metadata": {},
     "output_type": "execute_result"
    }
   ],
   "source": [
    "mylist[1]"
   ]
  },
  {
   "cell_type": "code",
   "execution_count": 22,
   "metadata": {},
   "outputs": [
    {
     "ename": "TypeError",
     "evalue": "append() takes exactly one argument (2 given)",
     "output_type": "error",
     "traceback": [
      "\u001b[1;31m---------------------------------------------------------------------------\u001b[0m",
      "\u001b[1;31mTypeError\u001b[0m                                 Traceback (most recent call last)",
      "\u001b[1;32m<ipython-input-22-b5620294867f>\u001b[0m in \u001b[0;36m<module>\u001b[1;34m\u001b[0m\n\u001b[1;32m----> 1\u001b[1;33m \u001b[0mmylist\u001b[0m\u001b[1;33m.\u001b[0m\u001b[0mappend\u001b[0m\u001b[1;33m(\u001b[0m\u001b[1;36m10\u001b[0m\u001b[1;33m,\u001b[0m\u001b[1;36m20\u001b[0m\u001b[1;33m)\u001b[0m\u001b[1;33m\u001b[0m\u001b[1;33m\u001b[0m\u001b[0m\n\u001b[0m",
      "\u001b[1;31mTypeError\u001b[0m: append() takes exactly one argument (2 given)"
     ]
    }
   ],
   "source": [
    "mylist.append(10,20)"
   ]
  },
  {
   "cell_type": "markdown",
   "metadata": {},
   "source": [
    "### Conditional Constructs"
   ]
  },
  {
   "cell_type": "code",
   "execution_count": 25,
   "metadata": {},
   "outputs": [
    {
     "name": "stdout",
     "output_type": "stream",
     "text": [
      "15  is odd\n",
      "Finish\n"
     ]
    }
   ],
   "source": [
    "x = 15\n",
    "if x%2 == 0:\n",
    "    print(x, ' is even')\n",
    "else:\n",
    "    print(x, ' is odd')\n",
    "print('Finish')"
   ]
  },
  {
   "cell_type": "code",
   "execution_count": 27,
   "metadata": {},
   "outputs": [
    {
     "name": "stdout",
     "output_type": "stream",
     "text": [
      "5  is smaller than 10\n",
      "Finish\n"
     ]
    }
   ],
   "source": [
    "#Example of multiple if conditions \n",
    "x = 5\n",
    "if x<10:\n",
    "    print(x ,' is smaller than 10')\n",
    "if x>10:\n",
    "    print(x, ' is bigger than 10')\n",
    "print('Finish')"
   ]
  },
  {
   "cell_type": "code",
   "execution_count": 29,
   "metadata": {},
   "outputs": [
    {
     "name": "stdout",
     "output_type": "stream",
     "text": [
      "x is greater than y\n",
      "Finish\n"
     ]
    }
   ],
   "source": [
    "#Chained conditions\n",
    "x = 15\n",
    "y = 7\n",
    "if x>y:\n",
    "    print('x is greater than y')\n",
    "elif x<y:\n",
    "    print('x is less than y')\n",
    "else:\n",
    "    print(' x and y are equal')\n",
    "print('Finish')"
   ]
  },
  {
   "cell_type": "code",
   "execution_count": 30,
   "metadata": {},
   "outputs": [
    {
     "name": "stdout",
     "output_type": "stream",
     "text": [
      "x is a positive single digit\n",
      "Finish\n"
     ]
    }
   ],
   "source": [
    "#Nested if\n",
    "x = 5\n",
    "if x>0:\n",
    "    if x<10:\n",
    "        print('x is a positive single digit')\n",
    "else:\n",
    "    print('x is non-positive number')\n",
    "print('Finish')"
   ]
  },
  {
   "cell_type": "code",
   "execution_count": 31,
   "metadata": {},
   "outputs": [
    {
     "name": "stdout",
     "output_type": "stream",
     "text": [
      "X is a positive and a single digit number\n",
      "Finish\n"
     ]
    }
   ],
   "source": [
    "x = 4\n",
    "if x>0 and x<10:\n",
    "    print('X is a positive and a single digit number')\n",
    "else:\n",
    "    print('Negative number')\n",
    "print('Finish')"
   ]
  },
  {
   "cell_type": "code",
   "execution_count": 32,
   "metadata": {},
   "outputs": [
    {
     "name": "stdout",
     "output_type": "stream",
     "text": [
      "x is greater than 2 but less then y\n"
     ]
    }
   ],
   "source": [
    "x = 4\n",
    "y = 13\n",
    "if x>2 or x<y:\n",
    "    print('x is greater than 2 but less then y')\n",
    "else:\n",
    "    print('value of x is ', x)"
   ]
  },
  {
   "cell_type": "markdown",
   "metadata": {},
   "source": [
    "### Iterative Constructs"
   ]
  },
  {
   "cell_type": "code",
   "execution_count": 35,
   "metadata": {},
   "outputs": [
    {
     "name": "stdout",
     "output_type": "stream",
     "text": [
      "Enter math marks 78\n",
      "Enter social marks70\n",
      "Enter science marks 87\n",
      "Student qualified for next grade\n"
     ]
    }
   ],
   "source": [
    "math_marks = int(input(\"Enter math marks \"))\n",
    "social_marks = int(input(\"Enter social marks\"))\n",
    "science_marks = int(input(\"Enter science marks \"))\n",
    "total = math_marks + social_marks + science_marks\n",
    "average = total/3\n",
    "if average > 75:\n",
    "    print(\"Student qualified for next grade\")\n",
    "else:\n",
    "    print(\"student not Qualified for next grade\")"
   ]
  },
  {
   "cell_type": "code",
   "execution_count": 36,
   "metadata": {},
   "outputs": [
    {
     "name": "stdout",
     "output_type": "stream",
     "text": [
      "Enter number of students : 2\n",
      "Enter math marks 45\n",
      "Enter social marks32\n",
      "Enter science marks 56\n",
      "student not Qualified for next grade\n",
      "Enter math marks 90\n",
      "Enter social marks98\n",
      "Enter science marks 76\n",
      "Student qualified for next grade\n",
      "Done.\n"
     ]
    }
   ],
   "source": [
    "# iterate for multiple students \n",
    "NoofStudents = int(input(\"Enter number of students : \"))\n",
    "count_of_students = 1\n",
    "while count_of_students <= NoofStudents:\n",
    "    math_marks = int(input(\"Enter math marks \"))\n",
    "    social_marks = int(input(\"Enter social marks\"))\n",
    "    science_marks = int(input(\"Enter science marks \"))\n",
    "    total = math_marks + social_marks + science_marks\n",
    "    average = total/3\n",
    "    if average > 75:\n",
    "        print(\"Student qualified for next grade\")\n",
    "    else:\n",
    "        print(\"student not Qualified for next grade\")\n",
    "    count_of_students += 1\n",
    "print('Done.')"
   ]
  },
  {
   "cell_type": "code",
   "execution_count": 37,
   "metadata": {},
   "outputs": [
    {
     "name": "stdout",
     "output_type": "stream",
     "text": [
      "47.73\n"
     ]
    }
   ],
   "source": [
    "List1 = [10,20,30,40,50,60,70,98,34,56,22,46,78,12,90]\n",
    "count = 0\n",
    "Sum = 0\n",
    "for index in List1:\n",
    "    count += 1\n",
    "    Sum = Sum + index\n",
    "mean = round(Sum/count,2)\n",
    "print(mean)"
   ]
  },
  {
   "cell_type": "markdown",
   "metadata": {},
   "source": [
    "## Strings"
   ]
  },
  {
   "cell_type": "markdown",
   "metadata": {},
   "source": [
    "##### String are immutable \n",
    "##### string is the list if characters is in order\n",
    "##### strings can be defined in single and diuble quotes \n",
    "##### Character type is no supported\n",
    "##### A character is a keystroke ( on keyboard )\n",
    "##### String can have spaces\n",
    "##### if string have zero (0) , is an empty string \n",
    "##### Special characters are delimitated by quotes ( '' or \"\")\n",
    "##### Multi line strings are written in triple quotes ( ''' ''' or \"\"\" \"\"\")\n",
    "##### strings can be accessed using an index"
   ]
  },
  {
   "cell_type": "code",
   "execution_count": 41,
   "metadata": {},
   "outputs": [
    {
     "name": "stdout",
     "output_type": "stream",
     "text": [
      "python supports database programming \n",
      " Python supports socket programming \n",
      " Hi hello \n",
      "how are you buddy \n",
      "Im good\n"
     ]
    }
   ],
   "source": [
    "string1 = 'python supports database programming \\n'\n",
    "string2 = \"Python supports socket programming \\n\"\n",
    "string3 = '''Hi hello \n",
    "how are you buddy \n",
    "Im good'''\n",
    "\n",
    "print(string1,string2,string3)"
   ]
  },
  {
   "cell_type": "code",
   "execution_count": 42,
   "metadata": {},
   "outputs": [
    {
     "name": "stdout",
     "output_type": "stream",
     "text": [
      "string1[0]:  p\n",
      "string2[1:5]:  ytho\n"
     ]
    }
   ],
   "source": [
    "print(\"string1[0]: \", string1[0])\n",
    "print(\"string2[1:5]: \", string2[1:5])"
   ]
  },
  {
   "cell_type": "code",
   "execution_count": 43,
   "metadata": {},
   "outputs": [
    {
     "name": "stdout",
     "output_type": "stream",
     "text": [
      "string2[-5:-1]:  ing \n",
      "string2[-5:-10]:  \n"
     ]
    }
   ],
   "source": [
    "print(\"string2[-5:-1]: \", string1[-5:-1])\n",
    "print(\"string2[-5:-10]: \", string2[-5:-10]) #No output"
   ]
  },
  {
   "cell_type": "code",
   "execution_count": 45,
   "metadata": {},
   "outputs": [
    {
     "name": "stdout",
     "output_type": "stream",
     "text": [
      "Hello world!\n",
      "TestingHello world!\n"
     ]
    }
   ],
   "source": [
    "#Strings are immutable \n",
    "#A new string is created in memory , when updated.\n",
    "#Here is example\n",
    "\n",
    "string = 'Hello world!'\n",
    "print(string)\n",
    "string = 'Testing' + string\n",
    "print(string)"
   ]
  },
  {
   "cell_type": "code",
   "execution_count": 46,
   "metadata": {},
   "outputs": [
    {
     "name": "stdout",
     "output_type": "stream",
     "text": [
      "python supports database programming \n",
      " python supports database programming \n",
      "\n"
     ]
    }
   ],
   "source": [
    "string = string1 + \" \" + string1\n",
    "print(string)"
   ]
  },
  {
   "cell_type": "code",
   "execution_count": 47,
   "metadata": {},
   "outputs": [],
   "source": [
    "# Escape sequences in strings\n",
    "# '\\n' new line\n",
    "# '\\t' tab\n",
    "# '\\a' alert\n",
    "# '\\b' backspace\n",
    "# '\\f' formfeed\n",
    "\n",
    "#here is the example\n",
    "\n",
    "tabby_cat = \"\\t I'm tabbed in.\"\n",
    "persian_cat = \"I'm split\\non a line\"\n",
    "backslash_cat = \"I'm \\\\a \\\\ cat.\"\n",
    "\n",
    "fat_cat = \"\"\" \n",
    "I'll do a list:\n",
    "\\t* cat food\n",
    "\\t* Finishes\n",
    "\\t* Catnip\\n\\t* Grass\n",
    "\"\"\"\n"
   ]
  },
  {
   "cell_type": "code",
   "execution_count": 48,
   "metadata": {},
   "outputs": [
    {
     "name": "stdout",
     "output_type": "stream",
     "text": [
      "\t I'm tabbed in.\n",
      "I'm split\n",
      "on a line\n",
      "I'm \\a \\ cat.\n",
      " \n",
      "I'll do a list:\n",
      "\t* cat food\n",
      "\t* Finishes\n",
      "\t* Catnip\n",
      "\t* Grass\n",
      "\n"
     ]
    }
   ],
   "source": [
    "print(tabby_cat)\n",
    "print(persian_cat)\n",
    "print(backslash_cat)\n",
    "print(fat_cat)"
   ]
  },
  {
   "cell_type": "code",
   "execution_count": 49,
   "metadata": {},
   "outputs": [
    {
     "name": "stdout",
     "output_type": "stream",
     "text": [
      "Ram\b\bKumar\n",
      "Ram\u0007kumar\u0007\n"
     ]
    }
   ],
   "source": [
    "print(\"Ram\\b\\bKumar\")\n",
    "print(\"Ram\\akumar\\a\") #two beeps"
   ]
  },
  {
   "cell_type": "code",
   "execution_count": 51,
   "metadata": {},
   "outputs": [
    {
     "name": "stdout",
     "output_type": "stream",
     "text": [
      "Great day for the python programmingGreat day for the python programming\n"
     ]
    }
   ],
   "source": [
    "#Types of string operators \n",
    "# + --> Concatenation\n",
    "# * --> Repetition\n",
    "# [] --> Subscript\n",
    "# [:] --> Slice\n",
    "# in --> membership\n",
    "# not in --> membership\n",
    "# r/R --> Raw string\n",
    "# % --> Format\n",
    "stri = \"Great day for the python programming\"\n",
    "stri = stri + stri  # Concatenation\n",
    "print(stri)"
   ]
  },
  {
   "cell_type": "code",
   "execution_count": 52,
   "metadata": {},
   "outputs": [
    {
     "name": "stdout",
     "output_type": "stream",
     "text": [
      "Great day for the python programmingGreat day for the python programmingGreat day for the python programming\n"
     ]
    }
   ],
   "source": [
    "stri = \"Great day for the python programming\"\n",
    "stri = stri * 3  # Repetition\n",
    "print(stri)"
   ]
  },
  {
   "cell_type": "code",
   "execution_count": 53,
   "metadata": {},
   "outputs": [],
   "source": [
    "stri = \"Great day for the python programming\""
   ]
  },
  {
   "cell_type": "code",
   "execution_count": 54,
   "metadata": {},
   "outputs": [
    {
     "name": "stdout",
     "output_type": "stream",
     "text": [
      " \n",
      "reat\n",
      "True\n",
      "False\n",
      "r'\n",
      " prints \n",
      " and print \n",
      " ram\n"
     ]
    }
   ],
   "source": [
    "print(stri[13]) #subscript\n",
    "print(stri[1:5]) #slice\n",
    "print('G' in stri) # membership\n",
    "print('d' not in stri) # membership\n",
    "print(\"r'\\n prints \\n and print \\n ram\") #Raw string "
   ]
  },
  {
   "cell_type": "code",
   "execution_count": 60,
   "metadata": {},
   "outputs": [
    {
     "name": "stdout",
     "output_type": "stream",
     "text": [
      "Capitilize :  Python\n"
     ]
    }
   ],
   "source": [
    "# String methods \n",
    "# Capitalize --> Capitalises the first letter of a string \n",
    "# count --> Count of string occurance\n",
    "# find --> Index of the first occurance else -1\n",
    "# isalnum --> at least one char is alpha or numeric \n",
    "# isalpha --> True if full string is alphabetic\n",
    "# isdigit --> True if full string is numeric\n",
    "# islower --> True if full string is in lowercase\n",
    "# istitle --> True if full string is title case\n",
    "# isupper --> True if full string is uppercase\n",
    "# len --> Length of the string\n",
    "# split --> spilts the string  based on a delimeter\n",
    "# swapcase --> Reverses the string casing\n",
    "# title --> Title cases the string\n",
    "# lower --> Converts the string into lowercase\n",
    "# upper --> converts the string into uppercase\n",
    "\n",
    "\n",
    "#Example\n",
    "\n",
    "v1 = \"python\"\n",
    "v2 = \"#######\"\n",
    "v3 = \"abcd\"\n",
    "v4 = \"1234\"\n",
    "v5 = \"great day for python programming\"\n",
    "\n",
    "print(\"Capitilize : \", v1.capitalize())"
   ]
  },
  {
   "cell_type": "code",
   "execution_count": 61,
   "metadata": {},
   "outputs": [
    {
     "name": "stdout",
     "output_type": "stream",
     "text": [
      "Count:  1\n"
     ]
    }
   ],
   "source": [
    "print(\"Count: \", v1.count('y',0,len(v1))) #count of occurance -- char/string"
   ]
  },
  {
   "cell_type": "code",
   "execution_count": 62,
   "metadata": {},
   "outputs": [
    {
     "name": "stdout",
     "output_type": "stream",
     "text": [
      "Index :  1\n"
     ]
    }
   ],
   "source": [
    "print(\"Index : \",v1.index('y',0,len(v1))) # same as index but raises exception if str is not found"
   ]
  },
  {
   "cell_type": "code",
   "execution_count": 63,
   "metadata": {},
   "outputs": [
    {
     "name": "stdout",
     "output_type": "stream",
     "text": [
      "find :  1\n"
     ]
    }
   ],
   "source": [
    "print(\"find : \",v1.find('y',0,len(v1))) # index of first occurance else -1"
   ]
  },
  {
   "cell_type": "code",
   "execution_count": 65,
   "metadata": {},
   "outputs": [
    {
     "name": "stdout",
     "output_type": "stream",
     "text": [
      "isalnum:  False\n"
     ]
    }
   ],
   "source": [
    "print(\"isalnum: \", v2.isalnum())"
   ]
  },
  {
   "cell_type": "code",
   "execution_count": 66,
   "metadata": {},
   "outputs": [
    {
     "name": "stdout",
     "output_type": "stream",
     "text": [
      "isalpha:  True\n",
      "isdigit:  True\n",
      "islower:  True\n",
      "isupper:  False\n",
      "istitle:  False\n"
     ]
    }
   ],
   "source": [
    "print(\"isalpha: \",v3.isalpha())\n",
    "print(\"isdigit: \",v4.isdigit())\n",
    "print(\"islower: \",v3.islower())\n",
    "print(\"isupper: \",v3.isupper())\n",
    "print(\"istitle: \",v3.istitle()) #True if string is title cased"
   ]
  },
  {
   "cell_type": "code",
   "execution_count": 68,
   "metadata": {},
   "outputs": [
    {
     "name": "stdout",
     "output_type": "stream",
     "text": [
      "Length :  4\n",
      "Lower:  great day for python programming\n",
      "split:  ['great', 'day', 'for', 'python', 'programming']\n",
      "swapcase :  ABCD\n",
      "Title:  Great Day For Python Programming\n",
      "Upper :  ABCD\n"
     ]
    }
   ],
   "source": [
    "print(\"Length : \",len(v3))\n",
    "print(\"Lower: \",v5.lower())\n",
    "print(\"split: \",v5.split(\" \"))\n",
    "print(\"swapcase : \",v3.swapcase())\n",
    "print(\"Title: \",v5.title())\n",
    "print(\"Upper : \",v3.upper())"
   ]
  },
  {
   "cell_type": "code",
   "execution_count": 70,
   "metadata": {},
   "outputs": [
    {
     "name": "stdout",
     "output_type": "stream",
     "text": [
      "True\n",
      "False\n",
      "True\n",
      "True\n",
      "False\n",
      "False\n",
      "True\n",
      "8\n",
      "-1\n",
      "35\n",
      "35\n"
     ]
    }
   ],
   "source": [
    "print('12' == '12')\n",
    "print(\"17\" == \"9\")\n",
    "print(\"12\" == '12')\n",
    "print(\"12\" == \"12\")\n",
    "print(\"aa\" == \"ab\")\n",
    "print(\"abc\" != \"abc\")\n",
    "print(\"abc\" == \"abc\")\n",
    "\n",
    "a = \"I saw a wolf in the forest. A lone wolf.\"\n",
    "\n",
    "print(a.find(\"wolf\"))\n",
    "print(a.find(\"wolf\",10,20))\n",
    "print(a.find(\"wolf\",15))\n",
    "print(a.rfind(\"wolf\"))   #reverse find"
   ]
  },
  {
   "cell_type": "code",
   "execution_count": 71,
   "metadata": {},
   "outputs": [
    {
     "name": "stdout",
     "output_type": "stream",
     "text": [
      "I saw a fox in the forest. A lone fox.\n",
      "I saw a fox in the forest. A lone wolf.\n"
     ]
    }
   ],
   "source": [
    "b = a.replace(\"wolf\",\"fox\")\n",
    "print(b)\n",
    "c = a.replace(\"wolf\",\"fox\",1)\n",
    "print(c)"
   ]
  },
  {
   "cell_type": "code",
   "execution_count": 74,
   "metadata": {},
   "outputs": [
    {
     "name": "stdout",
     "output_type": "stream",
     "text": [
      "There are  100 Characters in the string sentence\n",
      "There are  77 alphabetic characters\n",
      "There are  3 Digits\n",
      "There are  19 blank spaces\n"
     ]
    }
   ],
   "source": [
    "sentence = \"There are 22 apples in basket this morning , where 5 were taken by kids and remaining kept in fridge\"\n",
    "\n",
    "alphas = 0\n",
    "digits = 0\n",
    "spaces = 0\n",
    "\n",
    "for i in sentence:\n",
    "    if i.isalpha():\n",
    "        alphas += 1\n",
    "    if i.isdigit():\n",
    "        digits += 1\n",
    "    if i.isspace():\n",
    "        spaces += 1\n",
    "print(\"There are \", len(sentence), \"Characters in the string sentence\")\n",
    "print(\"There are \", alphas , \"alphabetic characters\")\n",
    "print(\"There are \", digits , \"Digits\")\n",
    "print(\"There are \", spaces , \"blank spaces\")\n"
   ]
  },
  {
   "cell_type": "code",
   "execution_count": 75,
   "metadata": {},
   "outputs": [],
   "source": [
    "# Strings cannot be changed \n",
    "# Opertors help in string manipulation\n",
    "# The reverse search on s string is done by using 'rfind' method\n",
    "# The \"split\" method is used to split the string based on s delimeter"
   ]
  },
  {
   "cell_type": "markdown",
   "metadata": {},
   "source": [
    "## Lists"
   ]
  },
  {
   "cell_type": "code",
   "execution_count": 76,
   "metadata": {},
   "outputs": [
    {
     "name": "stdout",
     "output_type": "stream",
     "text": [
      "0(Zeorth) index of list1 is  Satish\n",
      "list2[1:5] is  [2, 3, 4, 5]\n"
     ]
    }
   ],
   "source": [
    "# List is a mutable container. It can contain mixed type\n",
    "# Lists can be updated\n",
    "# List can contain data of different types\n",
    "# Lists are an ordered collection of values\n",
    "# Lists are zero based ( can be accessed in reverse order)\n",
    "# Elements contained in a list are comma separated\n",
    "# Reverse access is possible in a list\n",
    "# Duplication of items is allowed in a list\n",
    "# Lists are dynamically changeable ( they are not mutable)\n",
    "\n",
    "# Example -::- Creating and accessing lists\n",
    "\n",
    "list1 = ['Satish','sateesh','sathish',1992,1994,'']\n",
    "list2 = [1,2,3,4,5,6]\n",
    "list3 = ['a','b','c','d','e']\n",
    "\n",
    "print(\"0(Zeorth) index of list1 is \",list1[0])\n",
    "print(\"list2[1:5] is \", list2[1:5])"
   ]
  },
  {
   "cell_type": "code",
   "execution_count": 77,
   "metadata": {},
   "outputs": [
    {
     "name": "stdout",
     "output_type": "stream",
     "text": [
      "New value available at index 2 : 2001\n",
      "[1, 2, 2001, 4, 5, 6]\n"
     ]
    }
   ],
   "source": [
    "list2[2] = 2001\n",
    "print(\"New value available at index 2 :\",list2[2])\n",
    "print(list2)"
   ]
  },
  {
   "cell_type": "code",
   "execution_count": 78,
   "metadata": {},
   "outputs": [
    {
     "name": "stdout",
     "output_type": "stream",
     "text": [
      "After value available at index 2 : 4\n",
      "[1, 2, 4, 5, 6]\n"
     ]
    }
   ],
   "source": [
    "del list2[2]\n",
    "print(\"After value available at index 2 :\",list2[2])\n",
    "print(list2)"
   ]
  },
  {
   "cell_type": "code",
   "execution_count": 79,
   "metadata": {},
   "outputs": [
    {
     "name": "stdout",
     "output_type": "stream",
     "text": [
      "length:  3\n",
      "len of names list is :  4\n",
      "Names + names is :  ['Satish', 'sathish', 'sateesh', 'Deadly', 'Combination', 'ashok', 'ram', 'srinu', 'india']\n",
      "Repetition of Names list is : ['Satish', 'sathish', 'sateesh', 'Deadly', 'Combination', 'Satish', 'sathish', 'sateesh', 'Deadly', 'Combination']\n"
     ]
    }
   ],
   "source": [
    "# Working with Operators\n",
    "\n",
    "# '+'  --> Concatenation\n",
    "# '*'  --> Repetition\n",
    "# 'in' --> Membership\n",
    "\n",
    "Names = [\"Satish\",\"sathish\",\"sateesh\",\"Deadly\",\"Combination\"]\n",
    "names = [\"ashok\",\"ram\",\"srinu\",\"india\"]\n",
    "\n",
    "print(\"length: \",len([1,2,3]))\n",
    "print(\"len of names list is : \", len(names))\n",
    "print(\"Names + names is : \" ,Names+names)\n",
    "print(\"Repetition of Names list is :\",Names*2)"
   ]
  },
  {
   "cell_type": "code",
   "execution_count": 80,
   "metadata": {},
   "outputs": [
    {
     "name": "stdout",
     "output_type": "stream",
     "text": [
      "Satish in Names :  True\n"
     ]
    }
   ],
   "source": [
    "print(\"Satish in Names : \", \"Satish\" in Names)"
   ]
  },
  {
   "cell_type": "code",
   "execution_count": 82,
   "metadata": {},
   "outputs": [
    {
     "name": "stdout",
     "output_type": "stream",
     "text": [
      "Satish\n",
      "sathish\n",
      "sateesh\n",
      "Deadly\n",
      "Combination\n"
     ]
    }
   ],
   "source": [
    "for obj in Names: # iterate over a list \n",
    "    print(obj)"
   ]
  },
  {
   "cell_type": "code",
   "execution_count": 83,
   "metadata": {},
   "outputs": [
    {
     "name": "stdout",
     "output_type": "stream",
     "text": [
      "[1, -2, 5, 4, None, False, [1, 2], 'Python', (2, 3), {}]\n",
      "1\n",
      "-2\n",
      "5\n",
      "4\n",
      "None\n",
      "False\n",
      "[1, 2]\n",
      "Python\n",
      "(2, 3)\n",
      "{}\n"
     ]
    }
   ],
   "source": [
    "# To demonstrate heterogeneous data list , initialization of list, and list function\n",
    "\n",
    "# List heterogeneous objects \n",
    "\n",
    "objects = [1,-2,5,4,None,False,[1,2],\"Python\",(2,3),{}]\n",
    "print(objects)\n",
    "for obj in objects:\n",
    "    print(obj)"
   ]
  },
  {
   "cell_type": "code",
   "execution_count": 84,
   "metadata": {},
   "outputs": [
    {
     "name": "stdout",
     "output_type": "stream",
     "text": [
      "List initialization\n",
      "[0, 0, 0, 0, 0, 0, 0, 0, 0, 0, 0, 0, 0, 0, 0] [0, 0, 0, 0, 0, 0, 0, 0, 0, 0, 0, 0, 0, 0, 0]\n"
     ]
    }
   ],
   "source": [
    "# List initialization\n",
    "\n",
    "print(\"List initialization\")\n",
    "N1 = [0 for i in range(15)]\n",
    "N2 = [0]*15\n",
    "print(N1,N2)"
   ]
  },
  {
   "cell_type": "code",
   "execution_count": 85,
   "metadata": {},
   "outputs": [],
   "source": [
    "N1[0:11] = [10] * 10 #slice operator"
   ]
  },
  {
   "cell_type": "code",
   "execution_count": 86,
   "metadata": {},
   "outputs": [
    {
     "name": "stdout",
     "output_type": "stream",
     "text": [
      "[10, 10, 10, 10, 10, 10, 10, 10, 10, 10, 0, 0, 0, 0]\n"
     ]
    }
   ],
   "source": [
    "print(N1)"
   ]
  },
  {
   "cell_type": "code",
   "execution_count": 88,
   "metadata": {},
   "outputs": [
    {
     "name": "stdout",
     "output_type": "stream",
     "text": [
      "List functions ()\n",
      "True\n",
      "[1, 2, 3, 4]\n",
      "['Ruby', 'Python', 'Java']\n"
     ]
    }
   ],
   "source": [
    "# List functions ( List())\n",
    "\n",
    "print(\"List functions ()\")\n",
    "\n",
    "a = []\n",
    "b = list()\n",
    "print(a == b)\n",
    "print(list((1,2,3,4))) # Type cast ( converting the tuple to list)\n",
    "print(list(['Ruby','Python','Java']))\n"
   ]
  },
  {
   "cell_type": "code",
   "execution_count": 89,
   "metadata": {},
   "outputs": [
    {
     "name": "stdout",
     "output_type": "stream",
     "text": [
      "True\n"
     ]
    }
   ],
   "source": [
    "# List Methods\n",
    "\n",
    "# Appending and removing items\n",
    "\n",
    "langs = list()\n",
    "langs1 = []\n",
    "print(langs == langs1)"
   ]
  },
  {
   "cell_type": "code",
   "execution_count": 90,
   "metadata": {},
   "outputs": [
    {
     "name": "stdout",
     "output_type": "stream",
     "text": [
      "['python', 'Java']\n"
     ]
    }
   ],
   "source": [
    "langs.append(\"python\")\n",
    "langs.append(\"Java\")\n",
    "print(langs)"
   ]
  },
  {
   "cell_type": "code",
   "execution_count": 91,
   "metadata": {},
   "outputs": [
    {
     "data": {
      "text/plain": [
       "['C++', 'python', 'Java']"
      ]
     },
     "execution_count": 91,
     "metadata": {},
     "output_type": "execute_result"
    }
   ],
   "source": [
    "langs.insert(0,'C++')\n",
    "langs"
   ]
  },
  {
   "cell_type": "code",
   "execution_count": 93,
   "metadata": {},
   "outputs": [
    {
     "data": {
      "text/plain": [
       "['C++', 'python', 'Java', 'Javascript', 'AngularJs']"
      ]
     },
     "execution_count": 93,
     "metadata": {},
     "output_type": "execute_result"
    }
   ],
   "source": [
    "langs.extend((\"Javascript\",\"AngularJs\"))\n",
    "langs"
   ]
  },
  {
   "cell_type": "code",
   "execution_count": 94,
   "metadata": {},
   "outputs": [],
   "source": [
    "langs.extend(\"Perl\")"
   ]
  },
  {
   "cell_type": "code",
   "execution_count": 95,
   "metadata": {},
   "outputs": [
    {
     "data": {
      "text/plain": [
       "['C++', 'python', 'Java', 'Javascript', 'AngularJs', 'P', 'e', 'r', 'l']"
      ]
     },
     "execution_count": 95,
     "metadata": {},
     "output_type": "execute_result"
    }
   ],
   "source": [
    "langs"
   ]
  },
  {
   "cell_type": "code",
   "execution_count": 96,
   "metadata": {},
   "outputs": [
    {
     "data": {
      "text/plain": [
       "['C++',\n",
       " 'python',\n",
       " 'Java',\n",
       " 'Javascript',\n",
       " 'AngularJs',\n",
       " 'P',\n",
       " 'e',\n",
       " 'r',\n",
       " 'l',\n",
       " 'ReactJs',\n",
       " 'NodeJs']"
      ]
     },
     "execution_count": 96,
     "metadata": {},
     "output_type": "execute_result"
    }
   ],
   "source": [
    "newlangs = [\"ReactJs\",\"NodeJs\"]\n",
    "langs.extend(newlangs) #appending a list\n",
    "langs"
   ]
  },
  {
   "cell_type": "code",
   "execution_count": 97,
   "metadata": {},
   "outputs": [
    {
     "data": {
      "text/plain": [
       "'Javascript'"
      ]
     },
     "execution_count": 97,
     "metadata": {},
     "output_type": "execute_result"
    }
   ],
   "source": [
    "langs.pop(3)"
   ]
  },
  {
   "cell_type": "code",
   "execution_count": 98,
   "metadata": {},
   "outputs": [
    {
     "data": {
      "text/plain": [
       "<function list.pop(index=-1, /)>"
      ]
     },
     "execution_count": 98,
     "metadata": {},
     "output_type": "execute_result"
    }
   ],
   "source": [
    "langs.pop"
   ]
  },
  {
   "cell_type": "code",
   "execution_count": 99,
   "metadata": {},
   "outputs": [
    {
     "name": "stdout",
     "output_type": "stream",
     "text": [
      "['C++', 'python', 'Java', 'AngularJs', 'P', 'e', 'r', 'l', 'ReactJs', 'NodeJs']\n"
     ]
    }
   ],
   "source": [
    "print(langs)"
   ]
  },
  {
   "cell_type": "code",
   "execution_count": 100,
   "metadata": {},
   "outputs": [],
   "source": [
    "langs.remove(\"Java\")"
   ]
  },
  {
   "cell_type": "code",
   "execution_count": 101,
   "metadata": {},
   "outputs": [
    {
     "data": {
      "text/plain": [
       "['C++', 'python', 'AngularJs', 'P', 'e', 'r', 'l', 'ReactJs', 'NodeJs']"
      ]
     },
     "execution_count": 101,
     "metadata": {},
     "output_type": "execute_result"
    }
   ],
   "source": [
    "langs"
   ]
  },
  {
   "cell_type": "code",
   "execution_count": 103,
   "metadata": {},
   "outputs": [
    {
     "name": "stdout",
     "output_type": "stream",
     "text": [
      "Enumerate\n",
      "N[ 0 ] is  1\n",
      "N[ 1 ] is  4\n",
      "N[ 2 ] is  9\n",
      "N[ 3 ] is  16\n",
      "N[ 4 ] is  25\n",
      "N[ 5 ] is  36\n",
      "N[ 6 ] is  49\n",
      "N[ 7 ] is  64\n",
      "N[ 8 ] is  81\n",
      "N[ 9 ] is  100\n"
     ]
    }
   ],
   "source": [
    "# Using Enumerate method\n",
    "print(\"Enumerate\")\n",
    "N = [1,4,9,16,25,36,49,64,81,100]\n",
    "for e,i in enumerate(N):\n",
    "    print(\"N[\",e,\"] is \",i)"
   ]
  },
  {
   "cell_type": "code",
   "execution_count": 104,
   "metadata": {},
   "outputs": [
    {
     "name": "stdout",
     "output_type": "stream",
     "text": [
      "Count method\n",
      "3\n",
      "Count of digit 5 is  3\n"
     ]
    }
   ],
   "source": [
    "# Usage of count method , to find how many time an element occurs in list\n",
    "\n",
    "print(\"Count method\")\n",
    "N = [1,2,1,4,5,3,5,4,1,2,8,4,3,5,0,3]\n",
    "print(N.count(4))\n",
    "print(\"Count of digit 5 is \",N.count(5))"
   ]
  },
  {
   "cell_type": "code",
   "execution_count": 105,
   "metadata": {},
   "outputs": [
    {
     "name": "stdout",
     "output_type": "stream",
     "text": [
      "Nested list -::- List with in a list\n",
      "[1, 2]\n",
      "45\n",
      "4\n"
     ]
    }
   ],
   "source": [
    "# Nested list\n",
    "print(\"Nested list -::- List with in a list\")\n",
    "Num = [[1,2],4,5,[2,3,45],0,98,[1,2,3,4]]\n",
    "print(Num[0])\n",
    "print(Num[3][2])\n",
    "print(Num[6][3])"
   ]
  },
  {
   "cell_type": "code",
   "execution_count": 109,
   "metadata": {},
   "outputs": [
    {
     "name": "stdout",
     "output_type": "stream",
     "text": [
      "Sorting and Reversing the list\n",
      "Sorted order is : [0, 1, 1, 3, 3, 4, 4, 7, 8, 9]\n",
      "Reverse order is :  [9, 8, 7, 4, 4, 3, 3, 1, 1, 0]\n"
     ]
    }
   ],
   "source": [
    "# Sort and reverse the list\n",
    "print(\"Sorting and Reversing the list\")\n",
    "\n",
    "N = [3,4,1,8,0,4,7,3,1,9]\n",
    "N.sort()\n",
    "print(\"Sorted order is :\", N)\n",
    "N.sort(reverse = True)\n",
    "print(\"Reverse order is : \", N)"
   ]
  },
  {
   "cell_type": "code",
   "execution_count": 114,
   "metadata": {},
   "outputs": [
    {
     "data": {
      "text/plain": [
       "['Ant', 'Color', 'aPple', 'ant', 'apple', 'bear', 'zebra']"
      ]
     },
     "execution_count": 114,
     "metadata": {},
     "output_type": "execute_result"
    }
   ],
   "source": [
    "A1 = [\"bear\",\"apple\",\"zebra\",\"Ant\",\"ant\",\"aPple\",\"Color\"]\n",
    "A1.sort()\n",
    "A1"
   ]
  },
  {
   "cell_type": "code",
   "execution_count": 112,
   "metadata": {},
   "outputs": [
    {
     "name": "stdout",
     "output_type": "stream",
     "text": [
      "[0, 1, 1, 3, 3, 4, 4, 7, 8, 9]\n"
     ]
    }
   ],
   "source": [
    "N.reverse()\n",
    "print(N)    "
   ]
  },
  {
   "cell_type": "markdown",
   "metadata": {},
   "source": [
    "## tuples"
   ]
  },
  {
   "cell_type": "code",
   "execution_count": 117,
   "metadata": {},
   "outputs": [],
   "source": [
    "# Tuples are fixed size sequences that is they are immutables\n",
    "# Tuples are different from list \n",
    "\n",
    "# Tuples \n",
    "    # Cannot be updated\n",
    "    # Can contain dat of different types\n",
    "    # Are accessed using index\n",
    "    # Are zero based\n",
    "    # Are enclosed in () braces ( optional)\n",
    "    # Are comparable and hashbale\n",
    "    # are faster than lists for read-only operations \n",
    "    # Can be converted to list and vice versa\n",
    "    # Don not have append or extend methods : New elements can't be added to them\n",
    "    # Do not have remove or pop methods : Elements can't be removed from them\n",
    "    # Do not have index method : Elements can't be found in them\n",
    "    # Elements contained in a tuple are comma separated \n",
    "    # Reverse access is possible in a tuple\n",
    "    # Duplication of items is allowed in a tuple\n",
    "    # A tuple can be created with one element by ending it with comma( Example : data = ('abc',))"
   ]
  },
  {
   "cell_type": "code",
   "execution_count": 118,
   "metadata": {},
   "outputs": [
    {
     "name": "stdout",
     "output_type": "stream",
     "text": [
      "(1, 1, 4, 5, 3, 2, 8, 9, 0, 2, 3, 7, 6, 5, 3)\n",
      "<class 'tuple'>\n"
     ]
    }
   ],
   "source": [
    "# Creating tuples\n",
    "tup = (1,1,4,5,3,2,8,9,0,2,3,7,6,5,3)\n",
    "print(tup)\n",
    "print(type(tup))"
   ]
  },
  {
   "cell_type": "code",
   "execution_count": 119,
   "metadata": {},
   "outputs": [
    {
     "name": "stdout",
     "output_type": "stream",
     "text": [
      "('a',)\n",
      "<class 'tuple'>\n"
     ]
    }
   ],
   "source": [
    "tup1 = ('a',)\n",
    "print(tup1)\n",
    "print(type(tup1))"
   ]
  },
  {
   "cell_type": "code",
   "execution_count": 120,
   "metadata": {},
   "outputs": [
    {
     "name": "stdout",
     "output_type": "stream",
     "text": [
      "<class 'str'>\n",
      "a\n"
     ]
    }
   ],
   "source": [
    "data = ('a')\n",
    "print(type(data))\n",
    "print(data)"
   ]
  },
  {
   "cell_type": "code",
   "execution_count": 121,
   "metadata": {},
   "outputs": [
    {
     "name": "stdout",
     "output_type": "stream",
     "text": [
      "('G', 'u', 'i', 'd', 'o', ' ', 'v', 'a', 'n', ' ', 'r', 'o', 's', 's', 'a', 'm')\n",
      "o\n",
      "('d', 'o', ' ', 'v', 'a', 'n')\n"
     ]
    }
   ],
   "source": [
    "tup = tuple('Guido van rossam')\n",
    "print(tup)\n",
    "print(tup[4])\n",
    "print(tup[3:9])"
   ]
  },
  {
   "cell_type": "code",
   "execution_count": 122,
   "metadata": {},
   "outputs": [
    {
     "name": "stdout",
     "output_type": "stream",
     "text": [
      "['G', 'u', 'i', 'd', 'o', ' ', 'v', 'a', 'n', ' ', 'r', 'o', 's', 's', 'a', 'm']\n"
     ]
    }
   ],
   "source": [
    "l = list(tup)\n",
    "print(l)"
   ]
  },
  {
   "cell_type": "code",
   "execution_count": 127,
   "metadata": {},
   "outputs": [
    {
     "name": "stdout",
     "output_type": "stream",
     "text": [
      "(3, 5, 4)  Tuple is greater\n",
      "Length : 3\n",
      "Compare :  True\n",
      "Max :  5\n",
      "Min :  3\n"
     ]
    }
   ],
   "source": [
    "T1 = (3,4,5)\n",
    "T2 = (3,5,4)\n",
    "\n",
    "#Tuple comparison\n",
    "#Compares each element , stops when one is greater else continues\n",
    "#to next elements comparison\n",
    "\n",
    "if T1 > T2:\n",
    "    print(T1, \" Tuple is greater\")\n",
    "else:\n",
    "    print(T2, \" Tuple is greater\")\n",
    "print(\"Length :\" ,len(T2))\n",
    "print(\"Compare : \",T1 < T2) #ret = True if T1 is greater\n",
    "print(\"Max : \", max(T1))\n",
    "print(\"Min : \", min(T2))"
   ]
  },
  {
   "cell_type": "code",
   "execution_count": 128,
   "metadata": {},
   "outputs": [
    {
     "name": "stdout",
     "output_type": "stream",
     "text": [
      "Concatenation :  (3, 4, 5, 3, 5, 4)\n",
      "Repetition :  (3, 5, 4, 3, 5, 4, 3, 5, 4, 3, 5, 4)\n",
      "Membership :  True\n",
      "3\n",
      "5\n",
      "4\n"
     ]
    }
   ],
   "source": [
    "print(\"Concatenation : \", T1+T2)\n",
    "print(\"Repetition : \",T2*4)\n",
    "print(\"Membership : \",4 in T2)\n",
    "\n",
    "for x in T2:  #Iteration of tuple\n",
    "    print(x)"
   ]
  },
  {
   "cell_type": "markdown",
   "metadata": {},
   "source": [
    "## Dictionaries"
   ]
  },
  {
   "cell_type": "code",
   "execution_count": 129,
   "metadata": {},
   "outputs": [],
   "source": [
    "# Dictionaries is a container of key-value pairs\n",
    "# Dictionary \n",
    "    # Is mutable ( changeable)\n",
    "    # Can contain mixed data types\n",
    "    # Is not ordered unlike lists\n",
    "    # Whole set of elemtns are enclosed in {}\n",
    "    # Values can be accessed using KEYS , vice versa is not possible\n",
    "    # Keys have to be unique : Duplication of key is not allowed\n",
    "    # Keys are case sensitive\n",
    "    # The function 'dict' creates a new dictionary with no items -::- Example :: obj = dict()"
   ]
  },
  {
   "cell_type": "code",
   "execution_count": 130,
   "metadata": {},
   "outputs": [
    {
     "name": "stdout",
     "output_type": "stream",
     "text": [
      "{'sun': 'sunday', 'mon': 'monday', 'tue': 'tuesday', 'wed': 'wednesday'}\n",
      "{'one': 1, 'two': 2}\n",
      "{'svk': 'Bratislava', 'deu': 'Berlin', 'dnk': 'Copenhagen'}\n"
     ]
    }
   ],
   "source": [
    "#Create and access dictionary \n",
    "\n",
    "weekday = {'sun':'sunday','mon':'monday','tue':'tuesday','wed':'wednesday'}\n",
    "vals = dict(one=1,two=2)\n",
    "capitals = {}\n",
    "capitals[\"svk\"] = \"Bratislava\"\n",
    "capitals['deu'] = \"Berlin\"\n",
    "capitals[\"dnk\"] = \"Copenhagen\"\n",
    "\n",
    "print(weekday)\n",
    "print(vals)\n",
    "print(capitals)"
   ]
  },
  {
   "cell_type": "code",
   "execution_count": 131,
   "metadata": {},
   "outputs": [
    {
     "name": "stdout",
     "output_type": "stream",
     "text": [
      "{'sun': 'Sunday', 'mon': 'monday', 'tue': 'tuesday'}\n"
     ]
    }
   ],
   "source": [
    "weekdays = {'sun':'sunday','mon':'monday','tue':'tuesday','sun':'Sunday'} # latest value is taken for \"sun\"\n",
    "print(weekdays)"
   ]
  },
  {
   "cell_type": "code",
   "execution_count": 132,
   "metadata": {},
   "outputs": [
    {
     "name": "stdout",
     "output_type": "stream",
     "text": [
      "{'Oranges': 12, 'pears': 5, 'apples': 4, 'bananas': 5}\n"
     ]
    }
   ],
   "source": [
    "Basket = {'Oranges':12,'pears':5,'apples':4}\n",
    "Basket['bananas']=5\n",
    "print(Basket)"
   ]
  },
  {
   "cell_type": "code",
   "execution_count": 134,
   "metadata": {},
   "outputs": [
    {
     "name": "stdout",
     "output_type": "stream",
     "text": [
      "There are  4  various items in the Basket\n",
      "4\n"
     ]
    }
   ],
   "source": [
    "print(\"There are \",len(Basket),\" various items in the Basket\")\n",
    "print(Basket['apples'])"
   ]
  },
  {
   "cell_type": "code",
   "execution_count": 135,
   "metadata": {},
   "outputs": [
    {
     "name": "stdout",
     "output_type": "stream",
     "text": [
      "8\n"
     ]
    }
   ],
   "source": [
    "Basket['apples'] = 8\n",
    "print(Basket['apples'])"
   ]
  },
  {
   "cell_type": "code",
   "execution_count": 137,
   "metadata": {},
   "outputs": [
    {
     "name": "stdout",
     "output_type": "stream",
     "text": [
      "12\n",
      "None\n"
     ]
    }
   ],
   "source": [
    "print(Basket.get('Oranges'))\n",
    "print(Basket.get('Cherris')) # returned undefined as Cherris is not defined"
   ]
  },
  {
   "cell_type": "code",
   "execution_count": 139,
   "metadata": {},
   "outputs": [
    {
     "name": "stdout",
     "output_type": "stream",
     "text": [
      "{'oranges': 0, 'pears': 0, 'apples': 0, 'bananas': 0}\n"
     ]
    }
   ],
   "source": [
    "# Create a dict from a list\n",
    "\n",
    "basket = ('oranges','pears','apples','bananas','apples')\n",
    "fruits = {}.fromkeys(basket,0)\n",
    "print(fruits)"
   ]
  },
  {
   "cell_type": "code",
   "execution_count": 140,
   "metadata": {},
   "outputs": [
    {
     "name": "stdout",
     "output_type": "stream",
     "text": [
      "12\n",
      "15\n"
     ]
    }
   ],
   "source": [
    "fruits['oranges'] = 12\n",
    "fruits['pears'] = 8\n",
    "fruits['apples'] = 4\n",
    "\n",
    "print(fruits.setdefault('oranges',11))\n",
    "\n",
    "# Creates a new key with value if it does not exist \n",
    "\n",
    "print(fruits.setdefault('kiwis',15))"
   ]
  },
  {
   "cell_type": "code",
   "execution_count": 141,
   "metadata": {},
   "outputs": [
    {
     "name": "stdout",
     "output_type": "stream",
     "text": [
      "{'oranges': 12, 'pears': 8, 'apples': 4, 'bananas': 0, 'kiwis': 15}\n"
     ]
    }
   ],
   "source": [
    "print(fruits)"
   ]
  },
  {
   "cell_type": "code",
   "execution_count": 147,
   "metadata": {},
   "outputs": [
    {
     "name": "stdout",
     "output_type": "stream",
     "text": [
      "{'de': 'Germany', 'sk': 'slovakia', 'hu': 'Hungary', 'us': 'United states', 'no': 'Norway'}\n"
     ]
    }
   ],
   "source": [
    "domains = {'de':'Germany','sk':'slovakia','hu':'Hungary'}\n",
    "domain = {'us':'United states','no':'Norway'}\n",
    "\n",
    "domains.update(domain)\n",
    "#to add two dictionaries\n",
    "\n",
    "print(domains)"
   ]
  },
  {
   "cell_type": "code",
   "execution_count": 145,
   "metadata": {},
   "outputs": [
    {
     "name": "stdout",
     "output_type": "stream",
     "text": [
      "{'coins': 7, 'pens': 3, 'cups': 2, 'bags': 1, 'bottle': 4, 'books': 5}\n",
      "{'pens': 3, 'cups': 2, 'bags': 1, 'bottle': 4, 'books': 5}\n",
      "{'pens': 3, 'cups': 2, 'bags': 1, 'books': 5}\n",
      "{}\n"
     ]
    }
   ],
   "source": [
    "items = {'coins':7,'pens':3,'cups':2,'bags':1,'bottle':4,'books':5}\n",
    "print(items)\n",
    "items.pop(\"coins\")\n",
    "print(items)\n",
    "\n",
    "del items[\"bottle\"]\n",
    "print(items)\n",
    "\n",
    "items.clear()\n",
    "print(items)"
   ]
  },
  {
   "cell_type": "code",
   "execution_count": 149,
   "metadata": {},
   "outputs": [
    {
     "name": "stdout",
     "output_type": "stream",
     "text": [
      "dict_keys(['de', 'sk', 'hu', 'us', 'no'])\n",
      "dict_values(['Germany', 'slovakia', 'Hungary', 'United states', 'Norway'])\n",
      "dict_items([('de', 'Germany'), ('sk', 'slovakia'), ('hu', 'Hungary'), ('us', 'United states'), ('no', 'Norway')])\n",
      "True\n",
      "False\n"
     ]
    }
   ],
   "source": [
    "print(domains.keys()) # Keys \n",
    "print(domains.values()) # values\n",
    "print(domains.items()) # key-value pair\n",
    "print(\"de\" in domains) # Membership\n",
    "print(\"cz\" in domains) # membership "
   ]
  },
  {
   "cell_type": "code",
   "execution_count": 151,
   "metadata": {},
   "outputs": [
    {
     "name": "stdout",
     "output_type": "stream",
     "text": [
      "Key of domains dicy are  de\n",
      "Key of domains dicy are  sk\n",
      "Key of domains dicy are  hu\n",
      "Key of domains dicy are  us\n",
      "Key of domains dicy are  no\n",
      "Values  of domains dicy are  Germany\n",
      "Values  of domains dicy are  slovakia\n",
      "Values  of domains dicy are  Hungary\n",
      "Values  of domains dicy are  United states\n",
      "Values  of domains dicy are  Norway\n",
      "de : Germany\n",
      "sk : slovakia\n",
      "hu : Hungary\n",
      "us : United states\n",
      "no : Norway\n",
      "Finish\n"
     ]
    }
   ],
   "source": [
    "for key in domains:\n",
    "    print(\"Key of domains dicy are \", key)\n",
    "for k in domains:\n",
    "    print(\"Values  of domains dicy are \", domains[k])\n",
    "for k,v in domains.items():\n",
    "    print(\" : \". join((k,v)))\n",
    "print(\"Finish\")"
   ]
  },
  {
   "cell_type": "code",
   "execution_count": 158,
   "metadata": {},
   "outputs": [
    {
     "name": "stdout",
     "output_type": "stream",
     "text": [
      "dict_keys(['coins', 'pens', 'cups', 'bags', 'bottle', 'books'])\n",
      "coins:7\n",
      "pens:3\n",
      "cups:2\n",
      "bags:1\n",
      "bottle:4\n",
      "books:5\n"
     ]
    }
   ],
   "source": [
    "# Sorting on keys\n",
    "items = {'coins':7,'pens':3,'cups':2,'bags':1,'bottle':4,'books':5}\n",
    "sitems = items.keys()\n",
    "#sitems.sort() won't work to sort the Dictionary values we have to use pprint library\n",
    "print(sitems)\n",
    "\n",
    "for k in sitems:\n",
    "    print(\":\".join((k, str(items[k]))))"
   ]
  },
  {
   "cell_type": "code",
   "execution_count": 1,
   "metadata": {},
   "outputs": [],
   "source": [
    "import pprint as pp\n",
    "pp.pp(items)"
   ]
  },
  {
   "cell_type": "code",
   "execution_count": 159,
   "metadata": {},
   "outputs": [],
   "source": [
    "# Dictionaries are dynamic\n",
    "# Sort method allows sorting of dict\n",
    "# Keys are unique and therefore cannot be duplicated"
   ]
  },
  {
   "cell_type": "code",
   "execution_count": 160,
   "metadata": {},
   "outputs": [
    {
     "name": "stdout",
     "output_type": "stream",
     "text": [
      "[0, 1, 2, 3, 4, 5, 6, 7, 8, 9] (0, 1, 2, 3, 4, 5, 6, 7, 8, 9)\n"
     ]
    }
   ],
   "source": [
    "# We can use range function to create a list and tuple\n",
    "L = list(range(10))\n",
    "T = tuple(range(10))\n",
    "print(L,T)"
   ]
  },
  {
   "cell_type": "code",
   "execution_count": 161,
   "metadata": {},
   "outputs": [
    {
     "data": {
      "text/plain": [
       "['IND', 'AME', 'DEN', 'UNI', 'GER', 'JAP']"
      ]
     },
     "execution_count": 161,
     "metadata": {},
     "output_type": "execute_result"
    }
   ],
   "source": [
    "## List iterations and list comprehension \n",
    "\n",
    "Country_list = ['India','America','Denmark','United Kingdom','Germany','Japan']\n",
    "first3letters = []\n",
    "for word in Country_list:\n",
    "    first3letters.append(word[:3].upper())\n",
    "first3letters    "
   ]
  },
  {
   "cell_type": "code",
   "execution_count": 162,
   "metadata": {},
   "outputs": [
    {
     "name": "stdout",
     "output_type": "stream",
     "text": [
      "['IND', 'AME', 'DEN', 'UNI', 'GER', 'JAP']\n"
     ]
    }
   ],
   "source": [
    "# Element for element in list filter condition\n",
    "Country_list = ['India','America','Denmark','United Kingdom','Germany','Japan']\n",
    "first3letters = [word[:3].upper() for word in Country_list]\n",
    "print(first3letters)"
   ]
  },
  {
   "cell_type": "code",
   "execution_count": 163,
   "metadata": {},
   "outputs": [
    {
     "name": "stdout",
     "output_type": "stream",
     "text": [
      "[24, 28, 32, 36, 40]\n"
     ]
    }
   ],
   "source": [
    "list1 = [11,12,13,14,15,16,17,18,19,20]\n",
    "Even_number = []\n",
    "for num in list1:\n",
    "    if num%2 ==0:\n",
    "        Even_number.append(num*2)\n",
    "print(Even_number)"
   ]
  },
  {
   "cell_type": "code",
   "execution_count": 164,
   "metadata": {},
   "outputs": [
    {
     "name": "stdout",
     "output_type": "stream",
     "text": [
      "[24, 28, 32, 36, 40]\n"
     ]
    }
   ],
   "source": [
    "Even_Number = [num*2 for num in list1 if num%2 ==0]\n",
    "print(Even_Number)"
   ]
  },
  {
   "cell_type": "code",
   "execution_count": 165,
   "metadata": {},
   "outputs": [
    {
     "name": "stdout",
     "output_type": "stream",
     "text": [
      "[33, 24, 39, 28, 45, 32, 51, 36, 57, 40]\n"
     ]
    }
   ],
   "source": [
    "list1 = [11,12,13,14,15,16,17,18,19,20]\n",
    "Even_number = []\n",
    "for num in list1:\n",
    "    if num%2 ==0:\n",
    "        Even_number.append(num*2)\n",
    "    else:\n",
    "        Even_number.append(num*3)\n",
    "print(Even_number)"
   ]
  },
  {
   "cell_type": "code",
   "execution_count": 166,
   "metadata": {},
   "outputs": [
    {
     "name": "stdout",
     "output_type": "stream",
     "text": [
      "[33, 24, 39, 28, 45, 32, 51, 36, 57, 40]\n"
     ]
    }
   ],
   "source": [
    "Even_Number = [num*2 if num%2 ==0 else num*3 for num in list1]\n",
    "print(Even_Number)"
   ]
  },
  {
   "cell_type": "code",
   "execution_count": 168,
   "metadata": {},
   "outputs": [
    {
     "name": "stdout",
     "output_type": "stream",
     "text": [
      "[(11, 21), (12, 22), (13, 23)]\n"
     ]
    }
   ],
   "source": [
    "x=[11,12,13];y=[21,22,23]\n",
    "print(list(zip(x,y)))"
   ]
  },
  {
   "cell_type": "code",
   "execution_count": 171,
   "metadata": {},
   "outputs": [
    {
     "name": "stdout",
     "output_type": "stream",
     "text": [
      "[(11, 21), (11, 22), (11, 23), (12, 21), (12, 22), (12, 23), (13, 21), (13, 22), (13, 23)]\n"
     ]
    }
   ],
   "source": [
    "import itertools as itr\n",
    "x=[11,12,13];y=[21,22,23]\n",
    "Itr_product = list(itr.product(x,y))\n",
    "print(Itr_product)"
   ]
  },
  {
   "cell_type": "code",
   "execution_count": 173,
   "metadata": {},
   "outputs": [
    {
     "name": "stdout",
     "output_type": "stream",
     "text": [
      "kar 20\n",
      "AP 30\n",
      "TN 34\n",
      "Ker 45\n",
      "Finish\n"
     ]
    }
   ],
   "source": [
    "States = {'kar':20,'AP':30,'TN':34,'Ker':45}\n",
    "for key in States:\n",
    "    print(key,States[key])\n",
    "print('Finish')"
   ]
  },
  {
   "cell_type": "code",
   "execution_count": 174,
   "metadata": {},
   "outputs": [
    {
     "name": "stdout",
     "output_type": "stream",
     "text": [
      "20\n",
      "Key not found\n"
     ]
    }
   ],
   "source": [
    "print(States.get('kar'))\n",
    "print(States.get('Del','Key not found'))"
   ]
  },
  {
   "cell_type": "code",
   "execution_count": 175,
   "metadata": {},
   "outputs": [
    {
     "name": "stdout",
     "output_type": "stream",
     "text": [
      "{'AP': 30, 'TN': 34, 'Ker': 45}\n"
     ]
    }
   ],
   "source": [
    "del States['kar']\n",
    "print(States)"
   ]
  },
  {
   "cell_type": "code",
   "execution_count": 178,
   "metadata": {},
   "outputs": [
    {
     "name": "stdout",
     "output_type": "stream",
     "text": [
      "{'EmpNo': [100, 101, 102, 103], 'EName': ['Kong', 'Kochar', 'Alex', 'Satish'], 'Salary': [9000, 10000, 7500, 8900]}\n"
     ]
    }
   ],
   "source": [
    "Employee =  {\n",
    "    'EmpNo':[100,101,102,103],\n",
    "    'EName':['Kong','Kochar','Alex','Satish'],\n",
    "    'Salary':[9000,10000,7500,8900]\n",
    "}\n",
    "print(Employee)"
   ]
  },
  {
   "cell_type": "markdown",
   "metadata": {},
   "source": [
    "## User defined functions"
   ]
  },
  {
   "cell_type": "code",
   "execution_count": 180,
   "metadata": {},
   "outputs": [
    {
     "data": {
      "text/plain": [
       "0"
      ]
     },
     "execution_count": 180,
     "metadata": {},
     "output_type": "execute_result"
    }
   ],
   "source": [
    "def rep_neg(x):\n",
    "    if x>0:\n",
    "        out = x\n",
    "    else:\n",
    "        out = 0\n",
    "    return out\n",
    "rep_neg(-10)"
   ]
  },
  {
   "cell_type": "code",
   "execution_count": 181,
   "metadata": {},
   "outputs": [
    {
     "name": "stdout",
     "output_type": "stream",
     "text": [
      "[0, 2, 4, 5, 0, 0, 5, 7, 0, 5, 4]\n"
     ]
    }
   ],
   "source": [
    "MyList = [-1,2,4,5,-8,-9,5,7,-0,5,4]\n",
    "for i in range(0,len(MyList)):\n",
    "    MyList[i] = rep_neg(MyList[i])\n",
    "print(MyList)"
   ]
  },
  {
   "cell_type": "code",
   "execution_count": 182,
   "metadata": {},
   "outputs": [
    {
     "data": {
      "text/plain": [
       "120"
      ]
     },
     "execution_count": 182,
     "metadata": {},
     "output_type": "execute_result"
    }
   ],
   "source": [
    "# Factorial if a number using default argument\n",
    "\n",
    "def fac(num =1):\n",
    "    count = 1\n",
    "    fact = 1\n",
    "    while count <= num:\n",
    "        fact = count*fact\n",
    "        count += 1\n",
    "    return(fact)\n",
    "fac(5)"
   ]
  },
  {
   "cell_type": "code",
   "execution_count": 183,
   "metadata": {},
   "outputs": [
    {
     "data": {
      "text/plain": [
       "1"
      ]
     },
     "execution_count": 183,
     "metadata": {},
     "output_type": "execute_result"
    }
   ],
   "source": [
    "fac() # retunrs 1 becasue default value is 1"
   ]
  },
  {
   "cell_type": "markdown",
   "metadata": {},
   "source": [
    "## Lambda Function"
   ]
  },
  {
   "cell_type": "code",
   "execution_count": 184,
   "metadata": {},
   "outputs": [
    {
     "data": {
      "text/plain": [
       "9"
      ]
     },
     "execution_count": 184,
     "metadata": {},
     "output_type": "execute_result"
    }
   ],
   "source": [
    "sum = lambda x,y:x+y\n",
    "sum(4,5)"
   ]
  },
  {
   "cell_type": "markdown",
   "metadata": {},
   "source": [
    "#### We can use lambda fucntion with in MAP, REDUCE and FILTER to replicate the functionality of list comprehension"
   ]
  },
  {
   "cell_type": "code",
   "execution_count": 185,
   "metadata": {},
   "outputs": [
    {
     "name": "stdout",
     "output_type": "stream",
     "text": [
      "[97.7, 93.2, 82.4, 98.6, 85.28, 82.4, 89.69]\n"
     ]
    }
   ],
   "source": [
    "Temp = [36.5,34,28,37,29.6,28,32.05]\n",
    "F = map(lambda T:round(((9/5)*T+32),2), Temp)\n",
    "print(list(F))"
   ]
  },
  {
   "cell_type": "code",
   "execution_count": 186,
   "metadata": {},
   "outputs": [
    {
     "name": "stdout",
     "output_type": "stream",
     "text": [
      "[4, 16, 36, 64, 100, 81, 49, 25, 9, 1]\n"
     ]
    }
   ],
   "source": [
    "Squares = [2,4,6,8,10,9,7,5,3,1]\n",
    "result = list(map(lambda a:a**2,Squares))\n",
    "print(result)"
   ]
  },
  {
   "cell_type": "code",
   "execution_count": 187,
   "metadata": {},
   "outputs": [
    {
     "name": "stdout",
     "output_type": "stream",
     "text": [
      "[2, 4, 6, 8, 0]\n"
     ]
    }
   ],
   "source": [
    "List1 = [2,3,4,5,6,7,8,9,0]\n",
    "result = filter(lambda i:i%2==0,List1)\n",
    "print(list(result))"
   ]
  },
  {
   "cell_type": "code",
   "execution_count": 190,
   "metadata": {},
   "outputs": [
    {
     "name": "stdout",
     "output_type": "stream",
     "text": [
      "100\n"
     ]
    }
   ],
   "source": [
    "from functools import reduce\n",
    "L = [10,20,30,40]\n",
    "Sum = reduce(lambda x,y:x+y,L)\n",
    "print(Sum)"
   ]
  },
  {
   "cell_type": "code",
   "execution_count": 194,
   "metadata": {},
   "outputs": [
    {
     "data": {
      "text/plain": [
       "23"
      ]
     },
     "execution_count": 194,
     "metadata": {},
     "output_type": "execute_result"
    }
   ],
   "source": [
    "L2 = [5,4,6,7,3,9,2,8,23]\n",
    "reduce(lambda a,b:a if (a>b)else b,L2)"
   ]
  },
  {
   "cell_type": "markdown",
   "metadata": {},
   "source": [
    "## OOP in Python"
   ]
  },
  {
   "cell_type": "code",
   "execution_count": 202,
   "metadata": {},
   "outputs": [],
   "source": [
    "class student:\n",
    "    def __init__(self,name,age):\n",
    "        self.name = name\n",
    "        self.age = age\n",
    "    def __str__(self):\n",
    "        return \"student name is :\" + str(self.name)+ ' '+str(self.age)+ \" years old\"\n",
    "    def firstName(self):\n",
    "        return self.name.split(' ')[0]\n",
    "    def lastName(self):\n",
    "        return self.name.split(' ')[1]"
   ]
  },
  {
   "cell_type": "code",
   "execution_count": 203,
   "metadata": {},
   "outputs": [
    {
     "name": "stdout",
     "output_type": "stream",
     "text": [
      "student name is :Satish kumar 30 years old\n"
     ]
    }
   ],
   "source": [
    "Student1 = student(\"Satish kumar\",30)\n",
    "print(Student1)"
   ]
  },
  {
   "cell_type": "code",
   "execution_count": 204,
   "metadata": {},
   "outputs": [
    {
     "name": "stdout",
     "output_type": "stream",
     "text": [
      "Satish\n",
      "kumar\n"
     ]
    }
   ],
   "source": [
    "print(Student1.firstName())\n",
    "print(Student1.lastName())"
   ]
  },
  {
   "cell_type": "markdown",
   "metadata": {},
   "source": [
    "# Importing Packages "
   ]
  },
  {
   "cell_type": "code",
   "execution_count": 208,
   "metadata": {},
   "outputs": [],
   "source": [
    "# If we have a '.py' file with name \"Python.py\" it can be called using import \n",
    "import Python as P\n",
    "student = P.student(\"Satish kumar\",34)"
   ]
  },
  {
   "cell_type": "code",
   "execution_count": 209,
   "metadata": {},
   "outputs": [
    {
     "name": "stdout",
     "output_type": "stream",
     "text": [
      "student name is :Satish kumar 34 years old\n"
     ]
    }
   ],
   "source": [
    "print(student)"
   ]
  },
  {
   "cell_type": "code",
   "execution_count": 210,
   "metadata": {},
   "outputs": [],
   "source": [
    "import Mathematics as M"
   ]
  },
  {
   "cell_type": "code",
   "execution_count": 211,
   "metadata": {},
   "outputs": [
    {
     "data": {
      "text/plain": [
       "11"
      ]
     },
     "execution_count": 211,
     "metadata": {},
     "output_type": "execute_result"
    }
   ],
   "source": [
    "M.add(5,6)"
   ]
  },
  {
   "cell_type": "code",
   "execution_count": 212,
   "metadata": {},
   "outputs": [
    {
     "data": {
      "text/plain": [
       "-1"
      ]
     },
     "execution_count": 212,
     "metadata": {},
     "output_type": "execute_result"
    }
   ],
   "source": [
    "M.sub(5,6)"
   ]
  },
  {
   "cell_type": "code",
   "execution_count": 213,
   "metadata": {},
   "outputs": [
    {
     "data": {
      "text/plain": [
       "30"
      ]
     },
     "execution_count": 213,
     "metadata": {},
     "output_type": "execute_result"
    }
   ],
   "source": [
    "M.mul(5,6)"
   ]
  },
  {
   "cell_type": "code",
   "execution_count": 214,
   "metadata": {},
   "outputs": [
    {
     "data": {
      "text/plain": [
       "1.2"
      ]
     },
     "execution_count": 214,
     "metadata": {},
     "output_type": "execute_result"
    }
   ],
   "source": [
    "M.div(6,5)"
   ]
  },
  {
   "cell_type": "code",
   "execution_count": 215,
   "metadata": {},
   "outputs": [
    {
     "data": {
      "text/plain": [
       "101"
      ]
     },
     "execution_count": 215,
     "metadata": {},
     "output_type": "execute_result"
    }
   ],
   "source": [
    "from Mathematics import add\n",
    "add(34,67)"
   ]
  },
  {
   "cell_type": "markdown",
   "metadata": {},
   "source": [
    "# Exception Handling in Python"
   ]
  },
  {
   "cell_type": "code",
   "execution_count": 216,
   "metadata": {},
   "outputs": [
    {
     "name": "stdout",
     "output_type": "stream",
     "text": [
      "Enter Tempature in  Fahrenheit7\n",
      "-13.88888888888889\n"
     ]
    }
   ],
   "source": [
    "Temp = input(\"Enter Tempature in  Fahrenheit\")\n",
    "F = float(Temp)\n",
    "Cel = (F-32.0)*5.0/9.0\n",
    "print(Cel)"
   ]
  },
  {
   "cell_type": "code",
   "execution_count": 217,
   "metadata": {},
   "outputs": [
    {
     "name": "stdout",
     "output_type": "stream",
     "text": [
      "Enter Tempature in  FahrenheitSati\n"
     ]
    },
    {
     "ename": "ValueError",
     "evalue": "could not convert string to float: 'Sati'",
     "output_type": "error",
     "traceback": [
      "\u001b[1;31m---------------------------------------------------------------------------\u001b[0m",
      "\u001b[1;31mValueError\u001b[0m                                Traceback (most recent call last)",
      "\u001b[1;32m<ipython-input-217-014952612c62>\u001b[0m in \u001b[0;36m<module>\u001b[1;34m\u001b[0m\n\u001b[0;32m      1\u001b[0m \u001b[0mTemp\u001b[0m \u001b[1;33m=\u001b[0m \u001b[0minput\u001b[0m\u001b[1;33m(\u001b[0m\u001b[1;34m\"Enter Tempature in  Fahrenheit\"\u001b[0m\u001b[1;33m)\u001b[0m\u001b[1;33m\u001b[0m\u001b[1;33m\u001b[0m\u001b[0m\n\u001b[1;32m----> 2\u001b[1;33m \u001b[0mF\u001b[0m \u001b[1;33m=\u001b[0m \u001b[0mfloat\u001b[0m\u001b[1;33m(\u001b[0m\u001b[0mTemp\u001b[0m\u001b[1;33m)\u001b[0m\u001b[1;33m\u001b[0m\u001b[1;33m\u001b[0m\u001b[0m\n\u001b[0m\u001b[0;32m      3\u001b[0m \u001b[0mCel\u001b[0m \u001b[1;33m=\u001b[0m \u001b[1;33m(\u001b[0m\u001b[0mF\u001b[0m\u001b[1;33m-\u001b[0m\u001b[1;36m32.0\u001b[0m\u001b[1;33m)\u001b[0m\u001b[1;33m*\u001b[0m\u001b[1;36m5.0\u001b[0m\u001b[1;33m/\u001b[0m\u001b[1;36m9.0\u001b[0m\u001b[1;33m\u001b[0m\u001b[1;33m\u001b[0m\u001b[0m\n\u001b[0;32m      4\u001b[0m \u001b[0mprint\u001b[0m\u001b[1;33m(\u001b[0m\u001b[0mCel\u001b[0m\u001b[1;33m)\u001b[0m\u001b[1;33m\u001b[0m\u001b[1;33m\u001b[0m\u001b[0m\n",
      "\u001b[1;31mValueError\u001b[0m: could not convert string to float: 'Sati'"
     ]
    }
   ],
   "source": [
    "Temp = input(\"Enter Tempature in  Fahrenheit\")\n",
    "F = float(Temp)\n",
    "Cel = (F-32.0)*5.0/9.0\n",
    "print(Cel)"
   ]
  },
  {
   "cell_type": "code",
   "execution_count": 224,
   "metadata": {},
   "outputs": [
    {
     "name": "stdout",
     "output_type": "stream",
     "text": [
      "Enter Tempature in  Fahrenheit67\n",
      "19.444444444444443\n",
      "Always executed\n"
     ]
    }
   ],
   "source": [
    "Temp = input(\"Enter Tempature in  Fahrenheit\")\n",
    "try:\n",
    "    F = float(Temp)\n",
    "    cel = (F-32.0)*5.0/9.0\n",
    "    print(cel)\n",
    "except:\n",
    "    print(\"Please enter a number\")\n",
    "finally:\n",
    "    print(\"Always executed\")"
   ]
  },
  {
   "cell_type": "code",
   "execution_count": 225,
   "metadata": {},
   "outputs": [
    {
     "name": "stdout",
     "output_type": "stream",
     "text": [
      "Enter Tempature in  Fahrenheitytu\n",
      "Please enter a number\n",
      "Always executed\n"
     ]
    }
   ],
   "source": [
    "Temp = input(\"Enter Tempature in  Fahrenheit\")\n",
    "try:\n",
    "    F = float(Temp)\n",
    "    cel = (F-32.0)*5.0/9.0\n",
    "    print(cel)\n",
    "except:\n",
    "    print(\"Please enter a number\")\n",
    "finally:\n",
    "    print(\"Always executed\")"
   ]
  },
  {
   "cell_type": "code",
   "execution_count": null,
   "metadata": {},
   "outputs": [],
   "source": []
  }
 ],
 "metadata": {
  "kernelspec": {
   "display_name": "Python 3",
   "language": "python",
   "name": "python3"
  },
  "language_info": {
   "codemirror_mode": {
    "name": "ipython",
    "version": 3
   },
   "file_extension": ".py",
   "mimetype": "text/x-python",
   "name": "python",
   "nbconvert_exporter": "python",
   "pygments_lexer": "ipython3",
   "version": "3.7.6"
  }
 },
 "nbformat": 4,
 "nbformat_minor": 2
}
