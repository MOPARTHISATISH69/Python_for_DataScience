{
 "cells": [
  {
   "cell_type": "code",
   "execution_count": 1,
   "metadata": {},
   "outputs": [],
   "source": [
    "# Reading and writing files\n",
    "\n",
    "# There are 3 steps for reading and writing files in python\n",
    "    # Call the open() function to return a file object\n",
    "    # call the read() or write() method on a file object\n",
    "    # Close the file by calling the close() method on the file object"
   ]
  },
  {
   "cell_type": "code",
   "execution_count": 2,
   "metadata": {},
   "outputs": [
    {
     "name": "stdout",
     "output_type": "stream",
     "text": [
      "Python is an interpreted, high-level, general-purpose programming language. Created by Guido van Rossum and first released in 1991, Python's design philosophy emphasizes code readability with its notable use of significant whitespace\n"
     ]
    }
   ],
   "source": [
    "fileobj = open('C:\\\\Users\\\\SatishMoparthi\\\\Downloads\\\\Python\\\\Python.txt','r')\n",
    "print(fileobj.read())"
   ]
  },
  {
   "cell_type": "code",
   "execution_count": 3,
   "metadata": {},
   "outputs": [],
   "source": [
    "#Writing data into a empty file \n",
    "#to append data into an existing file , update mode with 'a'\n",
    "\n",
    "fobj = open('C:\\\\Users\\\\SatishMoparthi\\\\Downloads\\\\Python\\\\Python_text.txt','w')\n",
    "fobj.write(\"In computer science, artificial intelligence, sometimes called machine intelligence, is intelligence demonstrated by machines, in contrast to the natural intelligence displayed by humans and animals.\")\n",
    "fobj.close()"
   ]
  },
  {
   "cell_type": "code",
   "execution_count": 4,
   "metadata": {},
   "outputs": [
    {
     "name": "stdout",
     "output_type": "stream",
     "text": [
      "Enter value for fileSati\n",
      "Enter value for fileStisk\n",
      "Enter value for filefi\n",
      "Enter value for file \n"
     ]
    }
   ],
   "source": [
    "#storing data into a list and string\n",
    "\n",
    "fwobj = open('C:\\\\Users\\\\SatishMoparthi\\\\Downloads\\\\Python\\\\Python_text.txt','w')\n",
    "while True:\n",
    "    st = input(\"Enter value for file\")\n",
    "    if(st == \" \"):\n",
    "        break\n",
    "    else:\n",
    "        fwobj.write(st)   #fwobj.write(st + '\\n')\n",
    "fwobj.close()"
   ]
  },
  {
   "cell_type": "code",
   "execution_count": 5,
   "metadata": {},
   "outputs": [
    {
     "name": "stdout",
     "output_type": "stream",
     "text": [
      "Enter value for files\n",
      "Enter value for file  \n",
      "Enter value for file \n"
     ]
    }
   ],
   "source": [
    "fwobj = open('C:\\\\Users\\\\SatishMoparthi\\\\Downloads\\\\Python\\\\Python_text.txt','a')\n",
    "while True:\n",
    "    st = input(\"Enter value for file\")\n",
    "    if(st == \" \"):\n",
    "        break\n",
    "    else:\n",
    "        fwobj.write(st)   #fwobj.write(st + '\\n')\n",
    "fwobj.close()"
   ]
  },
  {
   "cell_type": "code",
   "execution_count": 6,
   "metadata": {},
   "outputs": [],
   "source": [
    "# if the fo is object created then\n",
    "    # fo.tell()  --> gives the place of cursor\n",
    "    # fo.seek()  --> moves the cursor to argument place\n",
    "    # fo.clsed() --> Attribute gives TRUE/FALSE , based on file is closed or not\n",
    "    # fo.mode()  --> give mode\n",
    "    # fo.name()  --> gives path\n",
    "    # fo.read(10) --> read first 10 characters\n",
    "    # fo.readline() --> reads first line\n",
    "    # fo.readline(2) --> reads second line\n",
    "    # fo.reaslines() --> reads all lines in a list method"
   ]
  },
  {
   "cell_type": "code",
   "execution_count": 7,
   "metadata": {},
   "outputs": [
    {
     "name": "stdout",
     "output_type": "stream",
     "text": [
      "Line  1 Der Herr der Welt (i.e. Master of the World) \n",
      "\n",
      "Line  2 The Day the Earth Stood Still \n",
      "\n",
      "Line  3 The Invisible Boy \n",
      "\n",
      "Line  4 Alphaville \n",
      "\n",
      "Line  5 2001: A Space Odyssey \n",
      "\n",
      "Line  6 Colossus: The Forbin Project \n",
      "\n",
      "Line  7 Silent Running \n",
      "\n",
      "Line  8 Westworld \n",
      "\n",
      "Line  9 Demon Seed \n",
      "\n",
      "Line  10 Star Wars\n",
      "Number of lines 10\n"
     ]
    }
   ],
   "source": [
    "n= 0\n",
    "fo = open('C:\\\\Users\\\\SatishMoparthi\\\\Downloads\\\\Python\\\\AI_Movies.txt','r')\n",
    "while True:\n",
    "    ln = fo.readline()\n",
    "    if not ln:\n",
    "        break\n",
    "    else:\n",
    "        n += 1\n",
    "        print(\"Line \",n,ln)\n",
    "print(\"Number of lines\",n)"
   ]
  },
  {
   "cell_type": "code",
   "execution_count": 8,
   "metadata": {},
   "outputs": [
    {
     "name": "stdout",
     "output_type": "stream",
     "text": [
      "\n"
     ]
    }
   ],
   "source": [
    "# Program to merge two files into single file\n",
    "\n",
    "f1 = open('C:\\\\Users\\\\SatishMoparthi\\\\Downloads\\\\Python\\\\Python.txt','r')\n",
    "f2 = open('C:\\\\Users\\\\SatishMoparthi\\\\Downloads\\\\Python\\\\AI_Movies.txt','r')\n",
    "f3 = open('C:\\\\Users\\\\SatishMoparthi\\\\Downloads\\\\Python\\\\Python_text.txt','a+')\n",
    "\n",
    "st = f2.read()\n",
    "for ln in f1:\n",
    "    mes = \"Dear\" + ln + '\\n'+st\n",
    "    f3.write(mes)\n",
    "print(f3.read())\n",
    "f3.close()"
   ]
  },
  {
   "cell_type": "code",
   "execution_count": null,
   "metadata": {},
   "outputs": [],
   "source": []
  }
 ],
 "metadata": {
  "kernelspec": {
   "display_name": "Python 3",
   "language": "python",
   "name": "python3"
  },
  "language_info": {
   "codemirror_mode": {
    "name": "ipython",
    "version": 3
   },
   "file_extension": ".py",
   "mimetype": "text/x-python",
   "name": "python",
   "nbconvert_exporter": "python",
   "pygments_lexer": "ipython3",
   "version": "3.7.6"
  }
 },
 "nbformat": 4,
 "nbformat_minor": 4
}
